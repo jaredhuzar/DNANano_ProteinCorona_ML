{
 "cells": [
  {
   "cell_type": "markdown",
   "id": "b1e230b9",
   "metadata": {},
   "source": [
    "# 1. Get LCMS Data and Protein Names"
   ]
  },
  {
   "cell_type": "code",
   "execution_count": null,
   "id": "3cfc0960",
   "metadata": {},
   "outputs": [],
   "source": [
    "import os"
   ]
  },
  {
   "cell_type": "code",
   "execution_count": null,
   "id": "412264c6",
   "metadata": {},
   "outputs": [],
   "source": [
    "import os\n",
    "command = os.path.join('DatabaseFormation','LCMS_BinaryExtraction.py') + ' ' + os.path.join('Data','MBsubtracted_LCMS_Data.xlsx')\n",
    "!python $command"
   ]
  },
  {
   "cell_type": "markdown",
   "id": "0e25c707",
   "metadata": {},
   "source": [
    "# 2. Get Netsurf Protein Properties"
   ]
  },
  {
   "cell_type": "code",
   "execution_count": null,
   "id": "fe7ac22e",
   "metadata": {},
   "outputs": [],
   "source": [
    "command = os.path.join('DatabaseFormation','NetSurfAnalysis.py') + ' ' + os.path.join('Data','netSurf','')\n",
    "!python $command"
   ]
  },
  {
   "cell_type": "markdown",
   "id": "2bd4048f",
   "metadata": {},
   "source": [
    "# 3. Identify UniProt IDs"
   ]
  },
  {
   "cell_type": "code",
   "execution_count": null,
   "id": "1e5922c1",
   "metadata": {},
   "outputs": [],
   "source": [
    "command = os.path.join('DatabaseFormation','UniProtID_Indentification.py') + ' ' + os.path.join('AnalyzedDataTest','PresentProteins8_4.csv')\n",
    "!python $command"
   ]
  },
  {
   "cell_type": "markdown",
   "id": "7e6e9a85",
   "metadata": {},
   "source": [
    "# 4. Extract Structural and Functional Data from UniProt and QuantiProt"
   ]
  },
  {
   "cell_type": "code",
   "execution_count": null,
   "id": "abd8e572",
   "metadata": {},
   "outputs": [],
   "source": [
    "command = os.path.join('DatabaseFormation','UniprotQuantiprot_Structural_Functional_Info.py') + ' ' + os.path.join('AnalyzedDataTest','TranslatedPresent8_6.csv')\n",
    "!python $command"
   ]
  },
  {
   "cell_type": "markdown",
   "id": "7e1fedb0",
   "metadata": {},
   "source": [
    "# 5. Merge  Protein Properties"
   ]
  },
  {
   "cell_type": "code",
   "execution_count": null,
   "id": "1327103c",
   "metadata": {
    "scrolled": true
   },
   "outputs": [],
   "source": [
    "dir1 = 'AnalyzedDataTest'\n",
    "files = ['ProData8_6.csv','functionalInfo.csv','flexibility.csv','interactivityData.csv','moreNetSurf.csv',\n",
    "        'secondaryAminoAcid.csv','aminoAcid.csv','exposedAminoAcid.csv','combos.csv']\n",
    "command = \"\"\n",
    "for fileVal in files:\n",
    "    command += os.path.join(dir1, fileVal)\n",
    "    command +=\" \"\n",
    "\n",
    "command1 = os.path.join('DatabaseFormation','Merge_Protein_Data.py') + ' ' + command\n",
    "\n",
    "!python $command1"
   ]
  },
  {
   "cell_type": "markdown",
   "id": "707ce20a",
   "metadata": {},
   "source": [
    "# 6. Merge LCMS, Protein, and Nano Features"
   ]
  },
  {
   "cell_type": "code",
   "execution_count": null,
   "id": "51f21455",
   "metadata": {},
   "outputs": [],
   "source": [
    "command"
   ]
  },
  {
   "cell_type": "code",
   "execution_count": null,
   "id": "94096314",
   "metadata": {},
   "outputs": [],
   "source": [
    "command = os.path.join('DatabaseFormation','Merge_Nano_Protein_LCMS.py') + ' ' + os.path.join('Data','origamiDatabase.xlsx') + ' ' +  os.path.join('AnalyzedDataTest','TranslatedPresent8_6.csv') + ' ' +  os.path.join('AnalyzedDataTest','ProStatistics8_7.csv') + ' ' + os.path.join('AnalyzedDataTest','EnrichedProteins8_4.csv')\n",
    "!python $command"
   ]
  },
  {
   "cell_type": "markdown",
   "id": "85ade05a",
   "metadata": {},
   "source": [
    "# Analysis"
   ]
  },
  {
   "cell_type": "markdown",
   "id": "28aa9beb",
   "metadata": {},
   "source": [
    "# 7. Train, Test, and Evaluate XGBoost Model on Present Protein Data"
   ]
  },
  {
   "cell_type": "code",
   "execution_count": null,
   "id": "36ed827a",
   "metadata": {},
   "outputs": [],
   "source": [
    "command = os.path.join('AnalysisScripts','RunModelAnalysisPresent.py') + ' ' +  os.path.join('AnalyzedDataTest','overallResPresent8_6.csv')\n",
    "!python $command"
   ]
  },
  {
   "cell_type": "markdown",
   "id": "26dcc583",
   "metadata": {},
   "source": [
    "# 8. Train, Test, and Evaluate XGBoost Model on Enriched Protein Data"
   ]
  },
  {
   "cell_type": "code",
   "execution_count": null,
   "id": "d400aa73",
   "metadata": {},
   "outputs": [],
   "source": [
    "command = os.path.join('AnalysisScripts','RunModelEnriched.py') + ' ' + os.path.join('AnalyzedDataTest','overallResEnriched8_6.csv')\n",
    "!python $command"
   ]
  },
  {
   "cell_type": "markdown",
   "id": "09d417e5",
   "metadata": {},
   "source": [
    "# 9. Evaluate Performance of Model Across Subsets of Data"
   ]
  },
  {
   "cell_type": "code",
   "execution_count": null,
   "id": "77741e96",
   "metadata": {},
   "outputs": [],
   "source": [
    "command = os.path.join('AnalysisScripts','PerformanceAcrossSubsets.py') + ' ' + os.path.join('AnalyzedDataTest','overallResPresent8_6.csv') + ' ' + os.path.join('Data','origamiDatabase.xlsx') + ' ' + os.path.join('AnalyzedDataTest','FunctionList8_6.csv')\n",
    "!python $command"
   ]
  },
  {
   "cell_type": "markdown",
   "id": "16bd93e1",
   "metadata": {},
   "source": [
    "# 10. Determine Enrichment of Proteins with Different Molecular Functions"
   ]
  },
  {
   "cell_type": "code",
   "execution_count": null,
   "id": "194b8399",
   "metadata": {},
   "outputs": [],
   "source": [
    "command = os.path.join('AnalysisScripts','FunctionalEnrichment.py') + ' ' + os.path.join('AnalyzedDataTest','overallResPresent8_6.csv') + ' ' + os.path.join('AnalyzedDataTest','FunctionList8_6.csv')\n",
    "!python $command"
   ]
  },
  {
   "cell_type": "markdown",
   "id": "929fad92",
   "metadata": {},
   "source": [
    "# 11. Find Proteins Commonly Present in the Corona of Different Nanostructures"
   ]
  },
  {
   "cell_type": "code",
   "execution_count": null,
   "id": "073cfb70",
   "metadata": {},
   "outputs": [],
   "source": [
    "command = os.path.join('AnalysisScripts','CommonProteins.py') + ' ' + os.path.join('AnalyzedDataTest','overallResPresent8_6.csv')\n",
    "!python $command"
   ]
  },
  {
   "cell_type": "markdown",
   "id": "826c78be",
   "metadata": {},
   "source": [
    "# 12. Find Protein Properties Different Between Adsorbed and Absent Proteins"
   ]
  },
  {
   "cell_type": "code",
   "execution_count": null,
   "id": "fc50ece1",
   "metadata": {},
   "outputs": [],
   "source": [
    "command = os.path.join('AnalysisScripts','DifferentProteinsProperties.py') + ' ' + os.path.join('AnalyzedDataTest','ProStatistics8_7.csv') + ' ' + os.path.join('AnalyzedDataTest','overallResPresent8_6.csv')\n",
    "!python $command"
   ]
  },
  {
   "cell_type": "markdown",
   "id": "24be0e10",
   "metadata": {},
   "source": [
    "# 13. Evaluate the Enrichment of Endocytosis-Assosciated Proteins "
   ]
  },
  {
   "cell_type": "code",
   "execution_count": null,
   "id": "f06d0242",
   "metadata": {},
   "outputs": [],
   "source": [
    "command = os.path.join('AnalysisScripts','EndocyticProteinEnrichment.py') + ' ' + os.path.join('Data','string_mapping.tsv') + ' ' + os.path.join('Data','string_interactions_short.tsv') + ' ' + os.path.join('AnalyzedDataTest','overallResPresent8_6.csv')\n",
    "!python $command"
   ]
  },
  {
   "cell_type": "markdown",
   "id": "d5a891f6",
   "metadata": {},
   "source": [
    "# 14. Evaluate Difference in Corona Composition Between Modified and Unmodified Nanostructures"
   ]
  },
  {
   "cell_type": "code",
   "execution_count": null,
   "id": "b1beb305",
   "metadata": {},
   "outputs": [],
   "source": [
    "command = os.path.join('AnalysisScripts','Modified_vs_Unmodified.py') + ' ' + os.path.join('AnalyzedDataTest','overallResPresent8_6.csv')\n",
    "!python $command"
   ]
  },
  {
   "cell_type": "markdown",
   "id": "3e6b340d",
   "metadata": {},
   "source": [
    "# 15. Run Classifier on Individual Nanostructures"
   ]
  },
  {
   "cell_type": "code",
   "execution_count": null,
   "id": "eed409ce",
   "metadata": {},
   "outputs": [],
   "source": [
    "command = os.path.join('AnalysisScripts','RunClassifier_EachNanostructure.py') + ' ' + os.path.join('AnalyzedDataTest','overallResPresent8_6.csv')\n",
    "!python $command"
   ]
  },
  {
   "cell_type": "markdown",
   "id": "cea6d031",
   "metadata": {},
   "source": [
    "# 16. Test and Evaluate Different ML Models"
   ]
  },
  {
   "cell_type": "code",
   "execution_count": null,
   "id": "d4104f45",
   "metadata": {},
   "outputs": [],
   "source": [
    "command = os.path.join('AnalysisScripts','ModelComparison.py') + ' ' + os.path.join('AnalyzedDataTest','overallResPresent8_6.csv')\n",
    "!python $command"
   ]
  },
  {
   "cell_type": "markdown",
   "id": "9d8a88c0",
   "metadata": {},
   "source": [
    "# 17. Training the model on all coated nanostructures and all bare nanostructures seperately"
   ]
  },
  {
   "cell_type": "code",
   "execution_count": null,
   "id": "ef432ce4",
   "metadata": {},
   "outputs": [],
   "source": [
    "command = os.path.join('AnalysisScripts','CoatedvsUncoatedModels.py') + ' ' + os.path.join('AnalyzedDataTest','overallResPresent8_6.csv')\n",
    "!python $command"
   ]
  }
 ],
 "metadata": {
  "kernelspec": {
   "display_name": "Python 3 (ipykernel)",
   "language": "python",
   "name": "python3"
  },
  "language_info": {
   "codemirror_mode": {
    "name": "ipython",
    "version": 3
   },
   "file_extension": ".py",
   "mimetype": "text/x-python",
   "name": "python",
   "nbconvert_exporter": "python",
   "pygments_lexer": "ipython3",
   "version": "3.10.11"
  }
 },
 "nbformat": 4,
 "nbformat_minor": 5
}

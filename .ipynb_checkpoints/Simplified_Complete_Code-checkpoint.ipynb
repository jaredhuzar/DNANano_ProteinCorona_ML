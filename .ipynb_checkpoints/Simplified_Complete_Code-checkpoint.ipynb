{
 "cells": [
  {
   "cell_type": "markdown",
   "id": "e98e282f",
   "metadata": {},
   "source": [
    "# 1. Get LCMS Data and Protein Names"
   ]
  },
  {
   "cell_type": "code",
   "execution_count": null,
   "id": "efc59ef6",
   "metadata": {},
   "outputs": [],
   "source": [
    "import os\n",
    "\n",
    "%run os.path.join('DatabaseFormation','LCMS_BinaryExtraction.py') os.path.join('Data','MBsubtracted_LCMS_Data.xlsx')"
   ]
  },
  {
   "cell_type": "markdown",
   "id": "26b130b7",
   "metadata": {},
   "source": [
    "# 2. Get Netsurf Protein Properties"
   ]
  },
  {
   "cell_type": "code",
   "execution_count": null,
   "id": "67120d2a",
   "metadata": {},
   "outputs": [],
   "source": [
    "%run os.path.join('DatabaseFormation','NetSurfAnalysis.py') os.path.join('Data','netSurf','')"
   ]
  },
  {
   "cell_type": "markdown",
   "id": "5ba26ace",
   "metadata": {},
   "source": [
    "# 3. Identify UniProt IDs"
   ]
  },
  {
   "cell_type": "code",
   "execution_count": null,
   "id": "0f80550f",
   "metadata": {},
   "outputs": [],
   "source": [
    "%run os.path.join('DatabaseFormation','UniProtID_Indentification.py') os.path.join('AnalyzedDataTest','PresentProteins8_6.csv')"
   ]
  },
  {
   "cell_type": "markdown",
   "id": "dff6c211",
   "metadata": {},
   "source": [
    "# 4. Extract Structural and Functional Data from UniProt and QuantiProt"
   ]
  },
  {
   "cell_type": "code",
   "execution_count": null,
   "id": "a1c2e6fa",
   "metadata": {},
   "outputs": [],
   "source": [
    "%run os.path.join('DatabaseFormation','UniprotQuantiprot_Structural_Functional_Info.py') os.path.join('AnalyzedDataTest','TranslatedPresent8_6.csv')"
   ]
  },
  {
   "cell_type": "markdown",
   "id": "f26a0f8a",
   "metadata": {},
   "source": [
    "# 5. Merge  Protein Properties"
   ]
  },
  {
   "cell_type": "code",
   "execution_count": null,
   "id": "416d6d9d",
   "metadata": {},
   "outputs": [],
   "source": [
    "dir1 = 'AnalyzedTestData'\n",
    "files = ['ProStatistics8_5.csv','functionalInfo.csv','flexibility.csv','interactivityData.csv','moreNetSurf.csv',\n",
    "        'secondaryAminoAcid.csv','aminoAcid.csv','exposedAminoAcid.csv','combos.csv']\n",
    "command = \"\"\n",
    "for fileVal in files:\n",
    "    command += os.path.join(dir1, fileVal)\n",
    "    command +=\" \"\n",
    "\n",
    "\n",
    "\n",
    "%run os.path.join('DatabaseFormation','Merge_Protein_Data.py') $command"
   ]
  },
  {
   "cell_type": "markdown",
   "id": "a56ebd95",
   "metadata": {},
   "source": [
    "# 6. Merge LCMS, Protein, and Nano Features"
   ]
  },
  {
   "cell_type": "code",
   "execution_count": null,
   "id": "83261631",
   "metadata": {},
   "outputs": [],
   "source": [
    "%run os.path.join('DatabaseFormation','Merge_Nano_Protein_LCMS.py') os.path.join('Data','origamiDatabase.xlsx') os.path.join('AnalyzedDataTest','TranslatedPresent8_6.csv') os.path.join('Data','origamiDatabase.xlsx') os.path.join('AnalyzedDataTest','ProStatistics8_5.csv')"
   ]
  },
  {
   "cell_type": "markdown",
   "id": "9efbaafe",
   "metadata": {},
   "source": [
    "# Analysis"
   ]
  },
  {
   "cell_type": "markdown",
   "id": "39f0fc2e",
   "metadata": {},
   "source": [
    "# 7. Train, Test, and Evaluate XGBoost Model on Present Protein Data"
   ]
  },
  {
   "cell_type": "code",
   "execution_count": null,
   "id": "2863bbfe",
   "metadata": {},
   "outputs": [],
   "source": [
    "%run os.path.join('AnalysisScripts','RunModelAnalysisPresent.py') os.path.join('AnalyzedDataTest','overallResPresent8_6.csv')"
   ]
  },
  {
   "cell_type": "markdown",
   "id": "56508726",
   "metadata": {},
   "source": [
    "# 8. Train, Test, and Evaluate XGBoost Model on Enriched Protein Data"
   ]
  },
  {
   "cell_type": "code",
   "execution_count": null,
   "id": "7e3bfa08",
   "metadata": {},
   "outputs": [],
   "source": [
    "%run os.path.join('AnalysisScripts','RunModelEnriched.py') os.path.join('AnalyzedDataTest','overallResEnriched8_6.csv')"
   ]
  },
  {
   "cell_type": "markdown",
   "id": "04ca7c13",
   "metadata": {},
   "source": [
    "# 9. Evaluate Performance of Model Across Subsets of Data"
   ]
  },
  {
   "cell_type": "code",
   "execution_count": null,
   "id": "d8fba4b2",
   "metadata": {},
   "outputs": [],
   "source": [
    "%run os.path.join('AnalysisScripts','PerformanceAcrossSubsets.py') os.path.join('AnalyzedDataTest','overallResPresent8_6.csv') os.path.join('Data','origamiDatabase.xlsx') os.path.join('AnalyzedDataTest','FunctionList8_6.csv')"
   ]
  },
  {
   "cell_type": "markdown",
   "id": "96bf9b1d",
   "metadata": {},
   "source": [
    "# 10. Determine Enrichment of Proteins with Different Molecular Functions"
   ]
  },
  {
   "cell_type": "code",
   "execution_count": null,
   "id": "a18674f6",
   "metadata": {},
   "outputs": [],
   "source": [
    "%run os.path.join('AnalysisScripts','FunctionalEnrichment.py') os.path.join('AnalyzedDataTest','overallResPresent8_6.csv') os.path.join('AnalyzedDataTest','FunctionList8_6.csv')"
   ]
  },
  {
   "cell_type": "markdown",
   "id": "0bb4366d",
   "metadata": {},
   "source": [
    "# 11. Find Proteins Commonly Present in the Corona of Different Nanostructures"
   ]
  },
  {
   "cell_type": "code",
   "execution_count": null,
   "id": "e73f24a2",
   "metadata": {},
   "outputs": [],
   "source": [
    "%run os.path.join('AnalysisScripts','CommonProteins.py') os.path.join('AnalyzedDataTest','overallResPresent8_6.csv')"
   ]
  },
  {
   "cell_type": "markdown",
   "id": "8ec31d84",
   "metadata": {},
   "source": [
    "# 12. Find Protein Properties Different Between Adsorbed and Absent Proteins"
   ]
  },
  {
   "cell_type": "code",
   "execution_count": null,
   "id": "64ebf34a",
   "metadata": {},
   "outputs": [],
   "source": [
    "%run os.path.join('AnalysisScripts','DifferentProteinsProperties.py') os.path.join('AnalyzedDataTest','ProStatistics8_5.csv') os.path.join('AnalyzedDataTest','PosProteins.csv') os.path.join('AnalyzedDataTest','NegProteins.csv')"
   ]
  },
  {
   "cell_type": "markdown",
   "id": "1142a492",
   "metadata": {},
   "source": [
    "# 13. Evaluate the Enrichment of Endocytosis-Assosciated Proteins "
   ]
  },
  {
   "cell_type": "code",
   "execution_count": null,
   "id": "5c786000",
   "metadata": {},
   "outputs": [],
   "source": [
    "%run os.path.join('AnalysisScripts','EndocyticProteinEnrichment.py') os.path.join('Data','string_mapping.tsv') os.path.join('AnalyzedDataTest','overallResPresent8_6.csv')"
   ]
  },
  {
   "cell_type": "markdown",
   "id": "bd34adf6",
   "metadata": {},
   "source": [
    "# 14. Evaluate Difference in Corona Composition Between Modified and Unmodified Nanostructures"
   ]
  },
  {
   "cell_type": "code",
   "execution_count": null,
   "id": "db4f907d",
   "metadata": {},
   "outputs": [],
   "source": [
    "%run os.path.join('AnalysisScripts','Modified_vs_Unmodified.py') os.path.join('AnalyzedDataTest','overallResPresent8_6.csv')"
   ]
  }
 ],
 "metadata": {
  "kernelspec": {
   "display_name": "Python 3 (ipykernel)",
   "language": "python",
   "name": "python3"
  },
  "language_info": {
   "codemirror_mode": {
    "name": "ipython",
    "version": 3
   },
   "file_extension": ".py",
   "mimetype": "text/x-python",
   "name": "python",
   "nbconvert_exporter": "python",
   "pygments_lexer": "ipython3",
   "version": "3.10.11"
  }
 },
 "nbformat": 4,
 "nbformat_minor": 5
}

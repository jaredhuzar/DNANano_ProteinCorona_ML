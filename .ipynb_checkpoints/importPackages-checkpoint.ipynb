{
 "cells": [
  {
   "cell_type": "code",
   "execution_count": null,
   "id": "1bc50492",
   "metadata": {},
   "outputs": [],
   "source": [
    "import numpy as np\n",
    "import Bio\n",
    "from Bio.SeqUtils.ProtParam import ProteinAnalysis\n",
    "import matplotlib.pyplot as plt\n",
    "import pandas as pd\n",
    "#import biolib\n",
    "import re\n",
    "import os\n",
    "import requests as r\n",
    "\n",
    "from io import StringIO\n",
    "from Bio import SeqIO\n",
    "\n",
    "import sklearn\n",
    "from sklearn.ensemble import RandomForestRegressor\n",
    "from sklearn.ensemble import RandomForestClassifier\n",
    "from sklearn.datasets import make_regression\n",
    "import pandas as pd\n",
    "from sklearn.tree import DecisionTreeClassifier # Import Decision Tree Classifier\n",
    "from sklearn.model_selection import train_test_split # Import train_test_split function\n",
    "from sklearn import metrics\n",
    "from sklearn.model_selection import RandomizedSearchCV\n",
    "from sklearn.model_selection import KFold\n",
    "\n",
    "import math\n",
    "import xgboost as xgb\n",
    "\n",
    "import seaborn as sns\n",
    "import shap\n",
    "\n",
    "from matplotlib_venn import venn2, venn2_circles, venn2_unweighted\n",
    "from scipy import stats\n",
    "\n",
    "import imblearn\n",
    "from sklearn.metrics import roc_auc_score\n",
    "\n",
    "import matplotlib.pyplot as plt\n",
    "\n",
    "from sklearn import svm\n",
    "from sklearn.metrics import RocCurveDisplay, auc\n",
    "\n",
    "import upsetplot\n",
    "from upsetplot import plot\n",
    "\n",
    "from sklearn.decomposition import PCA\n",
    "from mpl_toolkits.mplot3d import Axes3D\n",
    "from matplotlib.colors import ListedColormap\n",
    "\n",
    "import quantiprot\n",
    "from quantiprot.utils.io import load_fasta_file\n",
    "from quantiprot.utils.feature import Feature, FeatureSet\n",
    "from quantiprot.metrics.aaindex import get_aaindex_file\n",
    "from quantiprot.metrics.basic import average\n",
    "from quantiprot.metrics.aaindex import get_aa2charge, get_aa2hydropathy\n",
    "from quantiprot.metrics.basic import average, average_absolute"
   ]
  }
 ],
 "metadata": {
  "kernelspec": {
   "display_name": "Python 3 (ipykernel)",
   "language": "python",
   "name": "python3"
  },
  "language_info": {
   "codemirror_mode": {
    "name": "ipython",
    "version": 3
   },
   "file_extension": ".py",
   "mimetype": "text/x-python",
   "name": "python",
   "nbconvert_exporter": "python",
   "pygments_lexer": "ipython3",
   "version": "3.10.11"
  }
 },
 "nbformat": 4,
 "nbformat_minor": 5
}

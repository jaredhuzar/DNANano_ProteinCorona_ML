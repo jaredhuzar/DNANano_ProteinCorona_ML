{
 "cells": [
  {
   "cell_type": "markdown",
   "id": "5154afb3",
   "metadata": {},
   "source": [
    "# 1. Get LCMS Data and Protein Names"
   ]
  },
  {
   "cell_type": "code",
   "execution_count": 15,
   "id": "d41b7735",
   "metadata": {
    "scrolled": true
   },
   "outputs": [
    {
     "name": "stdout",
     "output_type": "stream",
     "text": [
      "set()\n",
      "set()\n",
      "set()\n",
      "set()\n",
      "set()\n",
      "set()\n",
      "set()\n",
      "set()\n",
      "set()\n",
      "set()\n",
      "set()\n",
      "set()\n",
      "set()\n",
      "set()\n",
      "set()\n",
      "set()\n",
      "set()\n",
      "set()\n",
      "set()\n",
      "set()\n",
      "set()\n",
      "set()\n",
      "set()\n",
      "set()\n",
      "set()\n",
      "set()\n",
      "set()\n",
      "set()\n",
      "set()\n",
      "set()\n",
      "set()\n",
      "set()\n",
      "set()\n",
      "set()\n",
      "set()\n",
      "set()\n"
     ]
    }
   ],
   "source": [
    "import os\n",
    "command = os.path.join('DatabaseFormation','LCMS_BinaryExtraction.py') + ' ' + os.path.join('Data','MBsubtracted_LCMS_Data.xlsx')\n",
    "!python $command"
   ]
  },
  {
   "cell_type": "markdown",
   "id": "d763a432",
   "metadata": {},
   "source": [
    "# 2. Get Netsurf Protein Properties"
   ]
  },
  {
   "cell_type": "code",
   "execution_count": 16,
   "id": "36c9fc2c",
   "metadata": {},
   "outputs": [],
   "source": [
    "command = os.path.join('DatabaseFormation','NetSurfAnalysis.py') + ' ' + os.path.join('Data','netSurf','')\n",
    "!python $command"
   ]
  },
  {
   "cell_type": "markdown",
   "id": "b2be9e11",
   "metadata": {},
   "source": [
    "# 3. Identify UniProt IDs"
   ]
  },
  {
   "cell_type": "code",
   "execution_count": 19,
   "id": "6672abe2",
   "metadata": {
    "scrolled": true
   },
   "outputs": [
    {
     "name": "stderr",
     "output_type": "stream",
     "text": [
      "C:\\Users\\jared\\DNANano_ProteinCorona_ML\\DatabaseFormation\\UniProtID_Indentification.py:106: FutureWarning: The frame.append method is deprecated and will be removed from pandas in a future version. Use pandas.concat instead.\n",
      "  allPresNew=allPresNew.append(addArray)\n",
      "C:\\Users\\jared\\DNANano_ProteinCorona_ML\\DatabaseFormation\\UniProtID_Indentification.py:106: FutureWarning: The frame.append method is deprecated and will be removed from pandas in a future version. Use pandas.concat instead.\n",
      "  allPresNew=allPresNew.append(addArray)\n",
      "C:\\Users\\jared\\DNANano_ProteinCorona_ML\\DatabaseFormation\\UniProtID_Indentification.py:106: FutureWarning: The frame.append method is deprecated and will be removed from pandas in a future version. Use pandas.concat instead.\n",
      "  allPresNew=allPresNew.append(addArray)\n",
      "C:\\Users\\jared\\DNANano_ProteinCorona_ML\\DatabaseFormation\\UniProtID_Indentification.py:106: FutureWarning: The frame.append method is deprecated and will be removed from pandas in a future version. Use pandas.concat instead.\n",
      "  allPresNew=allPresNew.append(addArray)\n",
      "C:\\Users\\jared\\DNANano_ProteinCorona_ML\\DatabaseFormation\\UniProtID_Indentification.py:106: FutureWarning: The frame.append method is deprecated and will be removed from pandas in a future version. Use pandas.concat instead.\n",
      "  allPresNew=allPresNew.append(addArray)\n",
      "C:\\Users\\jared\\DNANano_ProteinCorona_ML\\DatabaseFormation\\UniProtID_Indentification.py:106: FutureWarning: The frame.append method is deprecated and will be removed from pandas in a future version. Use pandas.concat instead.\n",
      "  allPresNew=allPresNew.append(addArray)\n",
      "C:\\Users\\jared\\DNANano_ProteinCorona_ML\\DatabaseFormation\\UniProtID_Indentification.py:106: FutureWarning: The frame.append method is deprecated and will be removed from pandas in a future version. Use pandas.concat instead.\n",
      "  allPresNew=allPresNew.append(addArray)\n",
      "C:\\Users\\jared\\DNANano_ProteinCorona_ML\\DatabaseFormation\\UniProtID_Indentification.py:106: FutureWarning: The frame.append method is deprecated and will be removed from pandas in a future version. Use pandas.concat instead.\n",
      "  allPresNew=allPresNew.append(addArray)\n",
      "C:\\Users\\jared\\DNANano_ProteinCorona_ML\\DatabaseFormation\\UniProtID_Indentification.py:106: FutureWarning: The frame.append method is deprecated and will be removed from pandas in a future version. Use pandas.concat instead.\n",
      "  allPresNew=allPresNew.append(addArray)\n",
      "C:\\Users\\jared\\DNANano_ProteinCorona_ML\\DatabaseFormation\\UniProtID_Indentification.py:106: FutureWarning: The frame.append method is deprecated and will be removed from pandas in a future version. Use pandas.concat instead.\n",
      "  allPresNew=allPresNew.append(addArray)\n",
      "C:\\Users\\jared\\DNANano_ProteinCorona_ML\\DatabaseFormation\\UniProtID_Indentification.py:106: FutureWarning: The frame.append method is deprecated and will be removed from pandas in a future version. Use pandas.concat instead.\n",
      "  allPresNew=allPresNew.append(addArray)\n",
      "C:\\Users\\jared\\DNANano_ProteinCorona_ML\\DatabaseFormation\\UniProtID_Indentification.py:106: FutureWarning: The frame.append method is deprecated and will be removed from pandas in a future version. Use pandas.concat instead.\n",
      "  allPresNew=allPresNew.append(addArray)\n",
      "C:\\Users\\jared\\DNANano_ProteinCorona_ML\\DatabaseFormation\\UniProtID_Indentification.py:106: FutureWarning: The frame.append method is deprecated and will be removed from pandas in a future version. Use pandas.concat instead.\n",
      "  allPresNew=allPresNew.append(addArray)\n",
      "C:\\Users\\jared\\DNANano_ProteinCorona_ML\\DatabaseFormation\\UniProtID_Indentification.py:106: FutureWarning: The frame.append method is deprecated and will be removed from pandas in a future version. Use pandas.concat instead.\n",
      "  allPresNew=allPresNew.append(addArray)\n",
      "C:\\Users\\jared\\DNANano_ProteinCorona_ML\\DatabaseFormation\\UniProtID_Indentification.py:106: FutureWarning: The frame.append method is deprecated and will be removed from pandas in a future version. Use pandas.concat instead.\n",
      "  allPresNew=allPresNew.append(addArray)\n",
      "C:\\Users\\jared\\DNANano_ProteinCorona_ML\\DatabaseFormation\\UniProtID_Indentification.py:106: FutureWarning: The frame.append method is deprecated and will be removed from pandas in a future version. Use pandas.concat instead.\n",
      "  allPresNew=allPresNew.append(addArray)\n",
      "C:\\Users\\jared\\DNANano_ProteinCorona_ML\\DatabaseFormation\\UniProtID_Indentification.py:106: FutureWarning: The frame.append method is deprecated and will be removed from pandas in a future version. Use pandas.concat instead.\n",
      "  allPresNew=allPresNew.append(addArray)\n"
     ]
    }
   ],
   "source": [
    "command = os.path.join('DatabaseFormation','UniProtID_Indentification.py') + ' ' + os.path.join('AnalyzedDataTest','PresentProteins8_4.csv')\n",
    "!python $command"
   ]
  },
  {
   "cell_type": "markdown",
   "id": "7fe8477e",
   "metadata": {},
   "source": [
    "# 4. Extract Structural and Functional Data from UniProt and QuantiProt"
   ]
  },
  {
   "cell_type": "code",
   "execution_count": 28,
   "id": "27e1f6e8",
   "metadata": {},
   "outputs": [],
   "source": [
    "command = os.path.join('DatabaseFormation','UniprotQuantiprot_Structural_Functional_Info.py') + ' ' + os.path.join('AnalyzedDataTest','TranslatedPresent8_6.csv')\n",
    "!python $command"
   ]
  },
  {
   "cell_type": "markdown",
   "id": "76d76645",
   "metadata": {},
   "source": [
    "# 5. Merge  Protein Properties"
   ]
  },
  {
   "cell_type": "code",
   "execution_count": 33,
   "id": "8fe20399",
   "metadata": {
    "scrolled": true
   },
   "outputs": [],
   "source": [
    "dir1 = 'AnalyzedDataTest'\n",
    "files = ['ProData8_6.csv','functionalInfo.csv','flexibility.csv','interactivityData.csv','moreNetSurf.csv',\n",
    "        'secondaryAminoAcid.csv','aminoAcid.csv','exposedAminoAcid.csv','combos.csv']\n",
    "command = \"\"\n",
    "for fileVal in files:\n",
    "    command += os.path.join(dir1, fileVal)\n",
    "    command +=\" \"\n",
    "\n",
    "command1 = os.path.join('DatabaseFormation','Merge_Protein_Data.py') + ' ' + command\n",
    "\n",
    "!python $command1"
   ]
  },
  {
   "cell_type": "markdown",
   "id": "83bb3669",
   "metadata": {},
   "source": [
    "# 6. Merge LCMS, Protein, and Nano Features"
   ]
  },
  {
   "cell_type": "code",
   "execution_count": 35,
   "id": "22959ebd",
   "metadata": {},
   "outputs": [
    {
     "data": {
      "text/plain": [
       "'DatabaseFormation\\\\Merge_Nano_Protein_LCMS.py Data\\\\origamiDatabase.xlsx AnalyzedDataTest\\\\TranslatedPresent8_6.csv Data\\\\origamiDatabase.xlsx AnalyzedDataTest\\\\ProStatistics8_7.csv'"
      ]
     },
     "execution_count": 35,
     "metadata": {},
     "output_type": "execute_result"
    }
   ],
   "source": [
    "command"
   ]
  },
  {
   "cell_type": "code",
   "execution_count": 39,
   "id": "a74b3b35",
   "metadata": {},
   "outputs": [],
   "source": [
    "command = os.path.join('DatabaseFormation','Merge_Nano_Protein_LCMS.py') + ' ' + os.path.join('Data','origamiDatabase.xlsx') + ' ' +  os.path.join('AnalyzedDataTest','TranslatedPresent8_6.csv') + ' ' +  os.path.join('AnalyzedDataTest','ProStatistics8_7.csv') + ' ' + os.path.join('AnalyzedDataTest','EnrichedProteins8_4.csv')\n",
    "!python $command"
   ]
  },
  {
   "cell_type": "markdown",
   "id": "71e6d809",
   "metadata": {},
   "source": [
    "# Analysis"
   ]
  },
  {
   "cell_type": "markdown",
   "id": "b0ce9d39",
   "metadata": {},
   "source": [
    "# 7. Train, Test, and Evaluate XGBoost Model on Present Protein Data"
   ]
  },
  {
   "cell_type": "code",
   "execution_count": null,
   "id": "4e3e5de6",
   "metadata": {
    "scrolled": true
   },
   "outputs": [],
   "source": [
    "command = os.path.join('AnalysisScripts','RunModelAnalysisPresent.py') + ' ' +  os.path.join('AnalyzedDataTest','overallResPresent8_6.csv')\n",
    "!python $command"
   ]
  },
  {
   "cell_type": "markdown",
   "id": "65feec67",
   "metadata": {},
   "source": [
    "# 8. Train, Test, and Evaluate XGBoost Model on Enriched Protein Data"
   ]
  },
  {
   "cell_type": "code",
   "execution_count": 41,
   "id": "5be3b322",
   "metadata": {
    "scrolled": true
   },
   "outputs": [
    {
     "name": "stdout",
     "output_type": "stream",
     "text": [
      "Figure(400x300)\n",
      "Figure(800x950)\n"
     ]
    },
    {
     "name": "stderr",
     "output_type": "stream",
     "text": [
      "[20:58:35] WARNING: C:\\buildkite-agent\\builds\\buildkite-windows-cpu-autoscaling-group-i-0b3782d1791676daf-1\\xgboost\\xgboost-ci-windows\\src\\c_api\\c_api.cc:1240: Saving into deprecated binary model format, please consider using `json` or `ubj`. Model format will default to JSON in XGBoost 2.2 if not specified.\n",
      "\n",
      " 21%|====                | 1922/9078 [00:11<00:40]       \n",
      " 23%|=====               | 2083/9078 [00:12<00:40]       \n",
      " 25%|=====               | 2237/9078 [00:13<00:39]       \n",
      " 26%|=====               | 2389/9078 [00:14<00:39]       \n",
      " 28%|======              | 2542/9078 [00:15<00:38]       \n",
      " 30%|======              | 2691/9078 [00:16<00:37]       \n",
      " 31%|======              | 2844/9078 [00:17<00:37]       \n",
      " 33%|=======             | 2998/9078 [00:18<00:36]       \n",
      " 35%|=======             | 3217/9078 [00:19<00:34]       \n",
      " 38%|========            | 3424/9078 [00:20<00:33]       \n",
      " 39%|========            | 3570/9078 [00:21<00:32]       \n",
      " 41%|========            | 3722/9078 [00:22<00:31]       \n",
      " 43%|=========           | 3875/9078 [00:23<00:30]       \n",
      " 44%|=========           | 4033/9078 [00:24<00:30]       \n",
      " 46%|=========           | 4191/9078 [00:25<00:29]       \n",
      " 48%|==========          | 4349/9078 [00:26<00:28]       \n",
      " 50%|==========          | 4508/9078 [00:27<00:27]       \n",
      " 52%|==========          | 4708/9078 [00:28<00:25]       \n",
      " 55%|===========         | 4979/9078 [00:29<00:23]       \n",
      " 57%|===========         | 5140/9078 [00:30<00:22]       \n",
      " 60%|============        | 5414/9078 [00:31<00:20]       \n",
      " 62%|============        | 5601/9078 [00:32<00:19]       \n",
      " 63%|=============       | 5753/9078 [00:33<00:19]       \n",
      " 65%|=============       | 5922/9078 [00:34<00:18]       \n",
      " 67%|=============       | 6085/9078 [00:35<00:17]       \n",
      " 69%|==============      | 6252/9078 [00:36<00:16]       \n",
      " 71%|==============      | 6422/9078 [00:37<00:15]       \n",
      " 72%|==============      | 6578/9078 [00:38<00:14]       \n",
      " 74%|===============     | 6733/9078 [00:39<00:13]       \n",
      " 76%|===============     | 6894/9078 [00:40<00:12]       \n",
      " 78%|================    | 7054/9078 [00:41<00:11]       \n",
      " 79%|================    | 7204/9078 [00:42<00:10]       \n",
      " 81%|================    | 7352/9078 [00:43<00:10]       \n",
      " 83%|=================   | 7505/9078 [00:44<00:09]       \n",
      " 84%|=================   | 7667/9078 [00:45<00:08]       \n",
      " 86%|=================   | 7827/9078 [00:46<00:07]       \n",
      " 89%|==================  | 8037/9078 [00:47<00:06]       \n",
      " 92%|==================  | 8312/9078 [00:48<00:04]       \n",
      " 94%|=================== | 8575/9078 [00:49<00:02]       \n",
      " 97%|=================== | 8823/9078 [00:50<00:01]       \n",
      "100%|===================| 9071/9078 [00:51<00:00]       \n"
     ]
    }
   ],
   "source": [
    "command = os.path.join('AnalysisScripts','RunModelEnriched.py') + ' ' + os.path.join('AnalyzedDataTest','overallResEnriched8_6.csv')\n",
    "!python $command"
   ]
  },
  {
   "cell_type": "markdown",
   "id": "a4c12c10",
   "metadata": {},
   "source": [
    "# 9. Evaluate Performance of Model Across Subsets of Data"
   ]
  },
  {
   "cell_type": "code",
   "execution_count": 42,
   "id": "33bd3b92",
   "metadata": {},
   "outputs": [
    {
     "name": "stdout",
     "output_type": "stream",
     "text": [
      "Figure(400x300)\n",
      "Figure(800x950)\n",
      "Figure(640x480)\n",
      "Figure(600x600)\n",
      "Figure(400x300)\n",
      "Figure(800x950)\n",
      "Figure(640x480)\n",
      "Figure(600x600)\n",
      "Figure(400x300)\n",
      "Figure(800x950)\n",
      "Figure(640x480)\n",
      "Figure(600x600)\n",
      "Figure(400x300)\n",
      "Figure(800x630)\n",
      "Figure(640x480)\n",
      "Figure(600x600)\n",
      "Figure(400x300)\n",
      "Figure(800x950)\n"
     ]
    },
    {
     "name": "stderr",
     "output_type": "stream",
     "text": [
      "[21:00:51] WARNING: C:\\buildkite-agent\\builds\\buildkite-windows-cpu-autoscaling-group-i-0b3782d1791676daf-1\\xgboost\\xgboost-ci-windows\\src\\c_api\\c_api.cc:1240: Saving into deprecated binary model format, please consider using `json` or `ubj`. Model format will default to JSON in XGBoost 2.2 if not specified.\n",
      "\n",
      " 18%|====                | 1596/9078 [00:11<00:51]       \n",
      " 20%|====                | 1785/9078 [00:12<00:49]       \n",
      " 22%|====                | 1954/9078 [00:13<00:47]       \n",
      " 23%|=====               | 2127/9078 [00:14<00:45]       \n",
      " 25%|=====               | 2281/9078 [00:15<00:44]       \n",
      " 27%|=====               | 2435/9078 [00:16<00:43]       \n",
      " 29%|======              | 2590/9078 [00:17<00:42]       \n",
      " 30%|======              | 2749/9078 [00:18<00:41]       \n",
      " 32%|======              | 2933/9078 [00:19<00:39]       \n",
      " 34%|=======             | 3100/9078 [00:20<00:38]       \n",
      " 36%|=======             | 3261/9078 [00:21<00:37]       \n",
      " 38%|========            | 3412/9078 [00:22<00:36]       \n",
      " 39%|========            | 3564/9078 [00:23<00:35]       \n",
      " 41%|========            | 3720/9078 [00:24<00:34]       \n",
      " 43%|=========           | 3882/9078 [00:25<00:33]       \n",
      " 45%|=========           | 4048/9078 [00:26<00:32]       \n",
      " 46%|=========           | 4216/9078 [00:27<00:31]       \n",
      " 48%|==========          | 4381/9078 [00:28<00:30]       \n",
      " 50%|==========          | 4552/9078 [00:29<00:28]       \n",
      " 52%|==========          | 4722/9078 [00:30<00:27]       \n",
      " 54%|===========         | 4888/9078 [00:31<00:26]       \n",
      " 56%|===========         | 5055/9078 [00:32<00:25]       \n",
      " 58%|============        | 5221/9078 [00:33<00:24]       \n",
      " 59%|============        | 5385/9078 [00:34<00:23]       \n",
      " 61%|============        | 5547/9078 [00:35<00:22]       \n",
      " 63%|=============       | 5710/9078 [00:36<00:21]       \n",
      " 65%|=============       | 5876/9078 [00:37<00:20]       \n",
      " 67%|=============       | 6038/9078 [00:38<00:19]       \n",
      " 68%|==============      | 6209/9078 [00:39<00:18]       \n",
      " 70%|==============      | 6377/9078 [00:40<00:16]       \n",
      " 72%|==============      | 6568/9078 [00:41<00:15]       \n",
      " 74%|===============     | 6750/9078 [00:42<00:14]       \n",
      " 76%|===============     | 6944/9078 [00:43<00:13]       \n",
      " 79%|================    | 7142/9078 [00:44<00:11]       \n",
      " 80%|================    | 7294/9078 [00:45<00:11]       \n",
      " 82%|================    | 7437/9078 [00:46<00:10]       \n",
      " 84%|=================   | 7593/9078 [00:47<00:09]       \n",
      " 85%|=================   | 7759/9078 [00:48<00:08]       \n",
      " 87%|=================   | 7923/9078 [00:49<00:07]       \n",
      " 89%|==================  | 8088/9078 [00:50<00:06]       \n",
      " 91%|==================  | 8252/9078 [00:51<00:05]       \n",
      " 93%|=================== | 8416/9078 [00:52<00:04]       \n",
      " 95%|=================== | 8580/9078 [00:53<00:03]       \n",
      " 96%|=================== | 8734/9078 [00:54<00:02]       \n",
      " 98%|===================| 8895/9078 [00:55<00:01]       \n",
      "100%|===================| 9059/9078 [00:56<00:00]       [21:02:19] WARNING: C:\\buildkite-agent\\builds\\buildkite-windows-cpu-autoscaling-group-i-0b3782d1791676daf-1\\xgboost\\xgboost-ci-windows\\src\\c_api\\c_api.cc:1240: Saving into deprecated binary model format, please consider using `json` or `ubj`. Model format will default to JSON in XGBoost 2.2 if not specified.\n",
      "\n",
      " 23%|=====               | 2075/9078 [00:11<00:37]       \n",
      " 25%|=====               | 2266/9078 [00:12<00:36]       \n",
      " 27%|=====               | 2461/9078 [00:13<00:34]       \n",
      " 29%|======              | 2665/9078 [00:14<00:33]       \n",
      " 31%|======              | 2854/9078 [00:15<00:32]       \n",
      " 34%|=======             | 3048/9078 [00:16<00:31]       \n",
      " 36%|=======             | 3247/9078 [00:17<00:30]       \n",
      " 38%|========            | 3433/9078 [00:18<00:29]       \n",
      " 40%|========            | 3633/9078 [00:19<00:28]       \n",
      " 42%|========            | 3827/9078 [00:20<00:27]       \n",
      " 44%|=========           | 4024/9078 [00:21<00:26]       \n",
      " 47%|=========           | 4222/9078 [00:22<00:25]       \n",
      " 49%|==========          | 4416/9078 [00:23<00:24]       \n",
      " 51%|==========          | 4606/9078 [00:24<00:23]       \n",
      " 53%|===========         | 4807/9078 [00:25<00:22]       \n",
      " 55%|===========         | 4993/9078 [00:26<00:21]       \n",
      " 57%|===========         | 5186/9078 [00:27<00:20]       \n",
      " 59%|============        | 5386/9078 [00:28<00:19]       \n",
      " 61%|============        | 5577/9078 [00:29<00:18]       \n",
      " 64%|=============       | 5777/9078 [00:30<00:17]       \n",
      " 66%|=============       | 5972/9078 [00:31<00:16]       \n",
      " 68%|==============      | 6167/9078 [00:32<00:15]       \n",
      " 70%|==============      | 6367/9078 [00:33<00:14]       \n",
      " 72%|==============      | 6552/9078 [00:34<00:13]       \n",
      " 74%|===============     | 6745/9078 [00:35<00:12]       \n",
      " 76%|===============     | 6944/9078 [00:36<00:11]       \n",
      " 79%|================    | 7133/9078 [00:37<00:10]       \n",
      " 81%|================    | 7328/9078 [00:38<00:09]       \n",
      " 83%|=================   | 7527/9078 [00:39<00:08]       \n",
      " 85%|=================   | 7719/9078 [00:40<00:07]       \n",
      " 87%|=================   | 7913/9078 [00:41<00:06]       \n",
      " 89%|==================  | 8110/9078 [00:42<00:05]       \n",
      " 91%|==================  | 8302/9078 [00:43<00:04]       \n",
      " 94%|=================== | 8504/9078 [00:44<00:02]       \n",
      " 96%|=================== | 8692/9078 [00:45<00:01]       \n",
      " 98%|===================| 8883/9078 [00:46<00:01]       [21:03:22] WARNING: C:\\buildkite-agent\\builds\\buildkite-windows-cpu-autoscaling-group-i-0b3782d1791676daf-1\\xgboost\\xgboost-ci-windows\\src\\c_api\\c_api.cc:1240: Saving into deprecated binary model format, please consider using `json` or `ubj`. Model format will default to JSON in XGBoost 2.2 if not specified.\n",
      "\n",
      " 43%|=========           | 3883/9078 [00:11<00:14]       \n",
      " 47%|=========           | 4258/9078 [00:12<00:13]       \n",
      " 51%|==========          | 4607/9078 [00:13<00:12]       \n",
      " 55%|===========         | 4980/9078 [00:14<00:11]       \n",
      " 59%|============        | 5349/9078 [00:15<00:10]       \n",
      " 63%|=============       | 5720/9078 [00:16<00:09]       \n",
      " 67%|=============       | 6090/9078 [00:17<00:08]       \n",
      " 71%|==============      | 6455/9078 [00:18<00:07]       \n",
      " 75%|===============     | 6821/9078 [00:19<00:06]       \n",
      " 79%|================    | 7189/9078 [00:20<00:05]       \n",
      " 83%|=================   | 7559/9078 [00:21<00:04]       \n",
      " 87%|=================   | 7933/9078 [00:22<00:03]       \n",
      " 91%|==================  | 8297/9078 [00:23<00:02]       \n",
      " 95%|=================== | 8666/9078 [00:24<00:01]       \n",
      "100%|===================| 9038/9078 [00:25<00:00]       [21:03:55] WARNING: C:\\buildkite-agent\\builds\\buildkite-windows-cpu-autoscaling-group-i-0b3782d1791676daf-1\\xgboost\\xgboost-ci-windows\\src\\c_api\\c_api.cc:1240: Saving into deprecated binary model format, please consider using `json` or `ubj`. Model format will default to JSON in XGBoost 2.2 if not specified.\n",
      "[21:04:24] WARNING: C:\\buildkite-agent\\builds\\buildkite-windows-cpu-autoscaling-group-i-0b3782d1791676daf-1\\xgboost\\xgboost-ci-windows\\src\\c_api\\c_api.cc:1240: Saving into deprecated binary model format, please consider using `json` or `ubj`. Model format will default to JSON in XGBoost 2.2 if not specified.\n",
      "\n",
      " 18%|====                | 1646/9078 [00:11<00:49]       \n",
      " 20%|====                | 1817/9078 [00:12<00:47]       \n",
      " 22%|====                | 1988/9078 [00:13<00:46]       \n",
      " 24%|=====               | 2158/9078 [00:14<00:44]       \n",
      " 25%|=====               | 2313/9078 [00:15<00:43]       \n",
      " 27%|=====               | 2470/9078 [00:16<00:42]       \n",
      " 29%|======              | 2630/9078 [00:17<00:41]       \n",
      " 31%|======              | 2793/9078 [00:18<00:40]       \n",
      " 33%|=======             | 2961/9078 [00:19<00:39]       \n",
      " 34%|=======             | 3130/9078 [00:20<00:38]       \n",
      " 36%|=======             | 3289/9078 [00:21<00:36]       \n",
      " 38%|========            | 3438/9078 [00:22<00:36]       \n",
      " 40%|========            | 3589/9078 [00:23<00:35]       \n",
      " 41%|========            | 3747/9078 [00:24<00:34]       \n",
      " 43%|=========           | 3910/9078 [00:25<00:33]       \n",
      " 45%|=========           | 4076/9078 [00:26<00:31]       \n",
      " 47%|=========           | 4246/9078 [00:27<00:30]       \n",
      " 49%|==========          | 4413/9078 [00:28<00:29]       \n",
      " 50%|==========          | 4575/9078 [00:29<00:28]       \n",
      " 52%|==========          | 4742/9078 [00:30<00:27]       \n",
      " 54%|===========         | 4906/9078 [00:31<00:26]       \n",
      " 56%|===========         | 5074/9078 [00:32<00:25]       \n",
      " 58%|============        | 5238/9078 [00:33<00:24]       \n",
      " 60%|============        | 5403/9078 [00:34<00:23]       \n",
      " 61%|============        | 5565/9078 [00:35<00:22]       \n",
      " 63%|=============       | 5732/9078 [00:36<00:21]       \n",
      " 65%|=============       | 5894/9078 [00:37<00:19]       \n",
      " 67%|=============       | 6059/9078 [00:38<00:18]       \n",
      " 69%|==============      | 6227/9078 [00:39<00:17]       \n",
      " 70%|==============      | 6397/9078 [00:40<00:16]       \n",
      " 72%|==============      | 6549/9078 [00:41<00:15]       \n",
      " 74%|===============     | 6705/9078 [00:42<00:14]       \n",
      " 76%|===============     | 6856/9078 [00:43<00:13]       \n",
      " 77%|===============     | 7006/9078 [00:44<00:13]       \n",
      " 79%|================    | 7149/9078 [00:45<00:12]       \n",
      " 80%|================    | 7292/9078 [00:46<00:11]       \n",
      " 82%|================    | 7437/9078 [00:47<00:10]       \n",
      " 84%|=================   | 7596/9078 [00:48<00:09]       \n",
      " 86%|=================   | 7765/9078 [00:49<00:08]       \n",
      " 87%|=================   | 7934/9078 [00:50<00:07]       \n",
      " 89%|==================  | 8094/9078 [00:51<00:06]       \n",
      " 91%|==================  | 8256/9078 [00:52<00:05]       \n",
      " 93%|=================== | 8417/9078 [00:53<00:04]       \n",
      " 95%|=================== | 8583/9078 [00:54<00:03]       \n",
      " 96%|=================== | 8743/9078 [00:55<00:02]       \n",
      " 98%|===================| 8901/9078 [00:56<00:01]       \n",
      "100%|===================| 9061/9078 [00:57<00:00]       \n"
     ]
    }
   ],
   "source": [
    "command = os.path.join('AnalysisScripts','PerformanceAcrossSubsets.py') + ' ' + os.path.join('AnalyzedDataTest','overallResPresent8_6.csv') + ' ' + os.path.join('Data','origamiDatabase.xlsx') + ' ' + os.path.join('AnalyzedDataTest','FunctionList8_6.csv')\n",
    "!python $command"
   ]
  },
  {
   "cell_type": "markdown",
   "id": "0193a5ab",
   "metadata": {},
   "source": [
    "# 10. Determine Enrichment of Proteins with Different Molecular Functions"
   ]
  },
  {
   "cell_type": "code",
   "execution_count": 43,
   "id": "41f4558e",
   "metadata": {},
   "outputs": [
    {
     "name": "stderr",
     "output_type": "stream",
     "text": [
      "C:\\Users\\jared\\AppData\\Local\\Packages\\PythonSoftwareFoundation.Python.3.10_qbz5n2kfra8p0\\LocalCache\\local-packages\\Python310\\site-packages\\seaborn\\categorical.py:82: FutureWarning: iteritems is deprecated and will be removed in a future version. Use .items instead.\n",
      "  plot_data = [np.asarray(s, float) for k, s in iter_data]\n"
     ]
    }
   ],
   "source": [
    "command = os.path.join('AnalysisScripts','FunctionalEnrichment.py') + ' ' + os.path.join('AnalyzedDataTest','overallResPresent8_6.csv') + ' ' + os.path.join('AnalyzedDataTest','FunctionList8_6.csv')\n",
    "!python $command"
   ]
  },
  {
   "cell_type": "markdown",
   "id": "9920923d",
   "metadata": {},
   "source": [
    "# 11. Find Proteins Commonly Present in the Corona of Different Nanostructures"
   ]
  },
  {
   "cell_type": "code",
   "execution_count": 47,
   "id": "4949e0fd",
   "metadata": {},
   "outputs": [],
   "source": [
    "command = os.path.join('AnalysisScripts','CommonProteins.py') + ' ' + os.path.join('AnalyzedDataTest','overallResPresent8_6.csv')\n",
    "!python $command"
   ]
  },
  {
   "cell_type": "markdown",
   "id": "755caf66",
   "metadata": {},
   "source": [
    "# 12. Find Protein Properties Different Between Adsorbed and Absent Proteins"
   ]
  },
  {
   "cell_type": "code",
   "execution_count": 57,
   "id": "709deac1",
   "metadata": {
    "scrolled": true
   },
   "outputs": [
    {
     "name": "stderr",
     "output_type": "stream",
     "text": [
      "C:\\Users\\jared\\DNANano_ProteinCorona_ML\\AnalysisScripts\\DifferentProteinsProperties.py:64: SettingWithCopyWarning: \n",
      "A value is trying to be set on a copy of a slice from a DataFrame.\n",
      "Try using .loc[row_indexer,col_indexer] = value instead\n",
      "\n",
      "See the caveats in the documentation: https://pandas.pydata.org/pandas-docs/stable/user_guide/indexing.html#returning-a-view-versus-a-copy\n",
      "  compSmall['Dataset'] = comparison['Dataset']\n",
      "C:\\Users\\jared\\DNANano_ProteinCorona_ML\\AnalysisScripts\\DifferentProteinsProperties.py:65: SettingWithCopyWarning: \n",
      "A value is trying to be set on a copy of a slice from a DataFrame.\n",
      "Try using .loc[row_indexer,col_indexer] = value instead\n",
      "\n",
      "See the caveats in the documentation: https://pandas.pydata.org/pandas-docs/stable/user_guide/indexing.html#returning-a-view-versus-a-copy\n",
      "  compSmall['Dummy'] = 0\n",
      "C:\\Users\\jared\\DNANano_ProteinCorona_ML\\AnalysisScripts\\DifferentProteinsProperties.py:83: SettingWithCopyWarning: \n",
      "A value is trying to be set on a copy of a slice from a DataFrame.\n",
      "Try using .loc[row_indexer,col_indexer] = value instead\n",
      "\n",
      "See the caveats in the documentation: https://pandas.pydata.org/pandas-docs/stable/user_guide/indexing.html#returning-a-view-versus-a-copy\n",
      "  compSmall['Dummy'] = 0\n",
      "C:\\Users\\jared\\DNANano_ProteinCorona_ML\\AnalysisScripts\\DifferentProteinsProperties.py:84: SettingWithCopyWarning: \n",
      "A value is trying to be set on a copy of a slice from a DataFrame.\n",
      "Try using .loc[row_indexer,col_indexer] = value instead\n",
      "\n",
      "See the caveats in the documentation: https://pandas.pydata.org/pandas-docs/stable/user_guide/indexing.html#returning-a-view-versus-a-copy\n",
      "  compSmall['Dataset'] = comparison['Dataset']\n"
     ]
    }
   ],
   "source": [
    "command = os.path.join('AnalysisScripts','DifferentProteinsProperties.py') + ' ' + os.path.join('AnalyzedDataTest','ProStatistics8_7.csv') + ' ' + os.path.join('AnalyzedDataTest','overallResPresent8_6.csv')\n",
    "!python $command"
   ]
  },
  {
   "cell_type": "markdown",
   "id": "e81c55c9",
   "metadata": {},
   "source": [
    "# 13. Evaluate the Enrichment of Endocytosis-Assosciated Proteins "
   ]
  },
  {
   "cell_type": "code",
   "execution_count": 54,
   "id": "d4f36572",
   "metadata": {},
   "outputs": [],
   "source": [
    "command = os.path.join('AnalysisScripts','EndocyticProteinEnrichment.py') + ' ' + os.path.join('Data','string_mapping.tsv') + ' ' + os.path.join('Data','string_interactions_short.tsv') + ' ' + os.path.join('AnalyzedDataTest','overallResPresent8_6.csv')\n",
    "!python $command"
   ]
  },
  {
   "cell_type": "markdown",
   "id": "bae59633",
   "metadata": {},
   "source": [
    "# 14. Evaluate Difference in Corona Composition Between Modified and Unmodified Nanostructures"
   ]
  },
  {
   "cell_type": "code",
   "execution_count": 61,
   "id": "57357280",
   "metadata": {},
   "outputs": [
    {
     "name": "stdout",
     "output_type": "stream",
     "text": [
      "Chol Only: 105  ; Bare only: 25 ; Both: 152\n"
     ]
    }
   ],
   "source": [
    "command = os.path.join('AnalysisScripts','Modified_vs_Unmodified.py') + ' ' + os.path.join('AnalyzedDataTest','overallResPresent8_6.csv')\n",
    "!python $command"
   ]
  }
 ],
 "metadata": {
  "kernelspec": {
   "display_name": "Python 3 (ipykernel)",
   "language": "python",
   "name": "python3"
  },
  "language_info": {
   "codemirror_mode": {
    "name": "ipython",
    "version": 3
   },
   "file_extension": ".py",
   "mimetype": "text/x-python",
   "name": "python",
   "nbconvert_exporter": "python",
   "pygments_lexer": "ipython3",
   "version": "3.10.11"
  }
 },
 "nbformat": 4,
 "nbformat_minor": 5
}

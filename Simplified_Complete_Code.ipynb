{
 "cells": [
  {
   "cell_type": "markdown",
   "id": "b1e230b9",
   "metadata": {},
   "source": [
    "# 1. Get LCMS Data and Protein Names"
   ]
  },
  {
   "cell_type": "code",
   "execution_count": 2,
   "id": "2f17c4f3",
   "metadata": {},
   "outputs": [],
   "source": [
    "import os"
   ]
  },
  {
   "cell_type": "code",
   "execution_count": 15,
   "id": "412264c6",
   "metadata": {
    "scrolled": true
   },
   "outputs": [
    {
     "name": "stdout",
     "output_type": "stream",
     "text": [
      "set()\n",
      "set()\n",
      "set()\n",
      "set()\n",
      "set()\n",
      "set()\n",
      "set()\n",
      "set()\n",
      "set()\n",
      "set()\n",
      "set()\n",
      "set()\n",
      "set()\n",
      "set()\n",
      "set()\n",
      "set()\n",
      "set()\n",
      "set()\n",
      "set()\n",
      "set()\n",
      "set()\n",
      "set()\n",
      "set()\n",
      "set()\n",
      "set()\n",
      "set()\n",
      "set()\n",
      "set()\n",
      "set()\n",
      "set()\n",
      "set()\n",
      "set()\n",
      "set()\n",
      "set()\n",
      "set()\n",
      "set()\n"
     ]
    }
   ],
   "source": [
    "import os\n",
    "command = os.path.join('DatabaseFormation','LCMS_BinaryExtraction.py') + ' ' + os.path.join('Data','MBsubtracted_LCMS_Data.xlsx')\n",
    "!python $command"
   ]
  },
  {
   "cell_type": "markdown",
   "id": "0e25c707",
   "metadata": {},
   "source": [
    "# 2. Get Netsurf Protein Properties"
   ]
  },
  {
   "cell_type": "code",
   "execution_count": 16,
   "id": "fe7ac22e",
   "metadata": {},
   "outputs": [],
   "source": [
    "command = os.path.join('DatabaseFormation','NetSurfAnalysis.py') + ' ' + os.path.join('Data','netSurf','')\n",
    "!python $command"
   ]
  },
  {
   "cell_type": "markdown",
   "id": "2bd4048f",
   "metadata": {},
   "source": [
    "# 3. Identify UniProt IDs"
   ]
  },
  {
   "cell_type": "code",
   "execution_count": 19,
   "id": "1e5922c1",
   "metadata": {
    "scrolled": true
   },
   "outputs": [
    {
     "name": "stderr",
     "output_type": "stream",
     "text": [
      "C:\\Users\\jared\\DNANano_ProteinCorona_ML\\DatabaseFormation\\UniProtID_Indentification.py:106: FutureWarning: The frame.append method is deprecated and will be removed from pandas in a future version. Use pandas.concat instead.\n",
      "  allPresNew=allPresNew.append(addArray)\n",
      "C:\\Users\\jared\\DNANano_ProteinCorona_ML\\DatabaseFormation\\UniProtID_Indentification.py:106: FutureWarning: The frame.append method is deprecated and will be removed from pandas in a future version. Use pandas.concat instead.\n",
      "  allPresNew=allPresNew.append(addArray)\n",
      "C:\\Users\\jared\\DNANano_ProteinCorona_ML\\DatabaseFormation\\UniProtID_Indentification.py:106: FutureWarning: The frame.append method is deprecated and will be removed from pandas in a future version. Use pandas.concat instead.\n",
      "  allPresNew=allPresNew.append(addArray)\n",
      "C:\\Users\\jared\\DNANano_ProteinCorona_ML\\DatabaseFormation\\UniProtID_Indentification.py:106: FutureWarning: The frame.append method is deprecated and will be removed from pandas in a future version. Use pandas.concat instead.\n",
      "  allPresNew=allPresNew.append(addArray)\n",
      "C:\\Users\\jared\\DNANano_ProteinCorona_ML\\DatabaseFormation\\UniProtID_Indentification.py:106: FutureWarning: The frame.append method is deprecated and will be removed from pandas in a future version. Use pandas.concat instead.\n",
      "  allPresNew=allPresNew.append(addArray)\n",
      "C:\\Users\\jared\\DNANano_ProteinCorona_ML\\DatabaseFormation\\UniProtID_Indentification.py:106: FutureWarning: The frame.append method is deprecated and will be removed from pandas in a future version. Use pandas.concat instead.\n",
      "  allPresNew=allPresNew.append(addArray)\n",
      "C:\\Users\\jared\\DNANano_ProteinCorona_ML\\DatabaseFormation\\UniProtID_Indentification.py:106: FutureWarning: The frame.append method is deprecated and will be removed from pandas in a future version. Use pandas.concat instead.\n",
      "  allPresNew=allPresNew.append(addArray)\n",
      "C:\\Users\\jared\\DNANano_ProteinCorona_ML\\DatabaseFormation\\UniProtID_Indentification.py:106: FutureWarning: The frame.append method is deprecated and will be removed from pandas in a future version. Use pandas.concat instead.\n",
      "  allPresNew=allPresNew.append(addArray)\n",
      "C:\\Users\\jared\\DNANano_ProteinCorona_ML\\DatabaseFormation\\UniProtID_Indentification.py:106: FutureWarning: The frame.append method is deprecated and will be removed from pandas in a future version. Use pandas.concat instead.\n",
      "  allPresNew=allPresNew.append(addArray)\n",
      "C:\\Users\\jared\\DNANano_ProteinCorona_ML\\DatabaseFormation\\UniProtID_Indentification.py:106: FutureWarning: The frame.append method is deprecated and will be removed from pandas in a future version. Use pandas.concat instead.\n",
      "  allPresNew=allPresNew.append(addArray)\n",
      "C:\\Users\\jared\\DNANano_ProteinCorona_ML\\DatabaseFormation\\UniProtID_Indentification.py:106: FutureWarning: The frame.append method is deprecated and will be removed from pandas in a future version. Use pandas.concat instead.\n",
      "  allPresNew=allPresNew.append(addArray)\n",
      "C:\\Users\\jared\\DNANano_ProteinCorona_ML\\DatabaseFormation\\UniProtID_Indentification.py:106: FutureWarning: The frame.append method is deprecated and will be removed from pandas in a future version. Use pandas.concat instead.\n",
      "  allPresNew=allPresNew.append(addArray)\n",
      "C:\\Users\\jared\\DNANano_ProteinCorona_ML\\DatabaseFormation\\UniProtID_Indentification.py:106: FutureWarning: The frame.append method is deprecated and will be removed from pandas in a future version. Use pandas.concat instead.\n",
      "  allPresNew=allPresNew.append(addArray)\n",
      "C:\\Users\\jared\\DNANano_ProteinCorona_ML\\DatabaseFormation\\UniProtID_Indentification.py:106: FutureWarning: The frame.append method is deprecated and will be removed from pandas in a future version. Use pandas.concat instead.\n",
      "  allPresNew=allPresNew.append(addArray)\n",
      "C:\\Users\\jared\\DNANano_ProteinCorona_ML\\DatabaseFormation\\UniProtID_Indentification.py:106: FutureWarning: The frame.append method is deprecated and will be removed from pandas in a future version. Use pandas.concat instead.\n",
      "  allPresNew=allPresNew.append(addArray)\n",
      "C:\\Users\\jared\\DNANano_ProteinCorona_ML\\DatabaseFormation\\UniProtID_Indentification.py:106: FutureWarning: The frame.append method is deprecated and will be removed from pandas in a future version. Use pandas.concat instead.\n",
      "  allPresNew=allPresNew.append(addArray)\n",
      "C:\\Users\\jared\\DNANano_ProteinCorona_ML\\DatabaseFormation\\UniProtID_Indentification.py:106: FutureWarning: The frame.append method is deprecated and will be removed from pandas in a future version. Use pandas.concat instead.\n",
      "  allPresNew=allPresNew.append(addArray)\n"
     ]
    }
   ],
   "source": [
    "command = os.path.join('DatabaseFormation','UniProtID_Indentification.py') + ' ' + os.path.join('AnalyzedDataTest','PresentProteins8_4.csv')\n",
    "!python $command"
   ]
  },
  {
   "cell_type": "markdown",
   "id": "7e6e9a85",
   "metadata": {},
   "source": [
    "# 4. Extract Structural and Functional Data from UniProt and QuantiProt"
   ]
  },
  {
   "cell_type": "code",
   "execution_count": 28,
   "id": "abd8e572",
   "metadata": {},
   "outputs": [],
   "source": [
    "command = os.path.join('DatabaseFormation','UniprotQuantiprot_Structural_Functional_Info.py') + ' ' + os.path.join('AnalyzedDataTest','TranslatedPresent8_6.csv')\n",
    "!python $command"
   ]
  },
  {
   "cell_type": "markdown",
   "id": "7e1fedb0",
   "metadata": {},
   "source": [
    "# 5. Merge  Protein Properties"
   ]
  },
  {
   "cell_type": "code",
   "execution_count": 33,
   "id": "1327103c",
   "metadata": {
    "scrolled": true
   },
   "outputs": [],
   "source": [
    "dir1 = 'AnalyzedDataTest'\n",
    "files = ['ProData8_6.csv','functionalInfo.csv','flexibility.csv','interactivityData.csv','moreNetSurf.csv',\n",
    "        'secondaryAminoAcid.csv','aminoAcid.csv','exposedAminoAcid.csv','combos.csv']\n",
    "command = \"\"\n",
    "for fileVal in files:\n",
    "    command += os.path.join(dir1, fileVal)\n",
    "    command +=\" \"\n",
    "\n",
    "command1 = os.path.join('DatabaseFormation','Merge_Protein_Data.py') + ' ' + command\n",
    "\n",
    "!python $command1"
   ]
  },
  {
   "cell_type": "markdown",
   "id": "707ce20a",
   "metadata": {},
   "source": [
    "# 6. Merge LCMS, Protein, and Nano Features"
   ]
  },
  {
   "cell_type": "code",
   "execution_count": 35,
   "id": "51f21455",
   "metadata": {},
   "outputs": [
    {
     "data": {
      "text/plain": [
       "'DatabaseFormation\\\\Merge_Nano_Protein_LCMS.py Data\\\\origamiDatabase.xlsx AnalyzedDataTest\\\\TranslatedPresent8_6.csv Data\\\\origamiDatabase.xlsx AnalyzedDataTest\\\\ProStatistics8_7.csv'"
      ]
     },
     "execution_count": 35,
     "metadata": {},
     "output_type": "execute_result"
    }
   ],
   "source": [
    "command"
   ]
  },
  {
   "cell_type": "code",
   "execution_count": 39,
   "id": "94096314",
   "metadata": {},
   "outputs": [],
   "source": [
    "command = os.path.join('DatabaseFormation','Merge_Nano_Protein_LCMS.py') + ' ' + os.path.join('Data','origamiDatabase.xlsx') + ' ' +  os.path.join('AnalyzedDataTest','TranslatedPresent8_6.csv') + ' ' +  os.path.join('AnalyzedDataTest','ProStatistics8_7.csv') + ' ' + os.path.join('AnalyzedDataTest','EnrichedProteins8_4.csv')\n",
    "!python $command"
   ]
  },
  {
   "cell_type": "markdown",
   "id": "85ade05a",
   "metadata": {},
   "source": [
    "# Analysis"
   ]
  },
  {
   "cell_type": "markdown",
   "id": "28aa9beb",
   "metadata": {},
   "source": [
    "# 7. Train, Test, and Evaluate XGBoost Model on Present Protein Data"
   ]
  },
  {
   "cell_type": "code",
   "execution_count": 77,
   "id": "36ed827a",
   "metadata": {
    "scrolled": true
   },
   "outputs": [
    {
     "name": "stdout",
     "output_type": "stream",
     "text": [
      "Figure(400x300)\n",
      "Figure(640x480)\n",
      "Figure(800x950)\n"
     ]
    },
    {
     "name": "stderr",
     "output_type": "stream",
     "text": [
      "[20:02:46] WARNING: C:\\buildkite-agent\\builds\\buildkite-windows-cpu-autoscaling-group-i-0b3782d1791676daf-1\\xgboost\\xgboost-ci-windows\\src\\c_api\\c_api.cc:1240: Saving into deprecated binary model format, please consider using `json` or `ubj`. Model format will default to JSON in XGBoost 2.2 if not specified.\n",
      "\n",
      " 14%|===                 | 1310/9078 [00:11<01:05]       \n",
      " 16%|===                 | 1425/9078 [00:12<01:04]       \n",
      " 17%|===                 | 1544/9078 [00:13<01:03]       \n",
      " 18%|====                | 1666/9078 [00:14<01:02]       \n",
      " 20%|====                | 1795/9078 [00:15<01:00]       \n",
      " 21%|====                | 1932/9078 [00:16<00:59]       \n",
      " 23%|=====               | 2067/9078 [00:17<00:57]       \n",
      " 24%|=====               | 2194/9078 [00:18<00:56]       \n",
      " 25%|=====               | 2314/9078 [00:19<00:55]       \n",
      " 27%|=====               | 2432/9078 [00:20<00:54]       \n",
      " 28%|======              | 2553/9078 [00:21<00:53]       \n",
      " 29%|======              | 2674/9078 [00:22<00:52]       \n",
      " 31%|======              | 2800/9078 [00:23<00:51]       \n",
      " 32%|======              | 2926/9078 [00:24<00:50]       \n",
      " 34%|=======             | 3054/9078 [00:25<00:49]       \n",
      " 35%|=======             | 3174/9078 [00:26<00:48]       \n",
      " 36%|=======             | 3283/9078 [00:27<00:47]       \n",
      " 37%|=======             | 3400/9078 [00:28<00:46]       \n",
      " 39%|========            | 3501/9078 [00:29<00:46]       \n",
      " 40%|========            | 3598/9078 [00:30<00:45]       \n",
      " 41%|========            | 3696/9078 [00:31<00:45]       \n",
      " 42%|========            | 3815/9078 [00:32<00:44]       \n",
      " 43%|=========           | 3944/9078 [00:33<00:42]       \n",
      " 45%|=========           | 4071/9078 [00:34<00:41]       \n",
      " 46%|=========           | 4200/9078 [00:35<00:40]       \n",
      " 48%|==========          | 4322/9078 [00:36<00:39]       \n",
      " 49%|==========          | 4445/9078 [00:37<00:38]       \n",
      " 50%|==========          | 4568/9078 [00:38<00:37]       \n",
      " 52%|==========          | 4697/9078 [00:39<00:36]       \n",
      " 53%|===========         | 4829/9078 [00:40<00:35]       \n",
      " 55%|===========         | 4957/9078 [00:41<00:34]       \n",
      " 56%|===========         | 5086/9078 [00:42<00:32]       \n",
      " 57%|===========         | 5210/9078 [00:43<00:31]       \n",
      " 59%|============        | 5343/9078 [00:44<00:30]       \n",
      " 60%|============        | 5463/9078 [00:45<00:29]       \n",
      " 62%|============        | 5591/9078 [00:46<00:28]       \n",
      " 63%|=============       | 5723/9078 [00:47<00:27]       \n",
      " 64%|=============       | 5852/9078 [00:48<00:26]       \n",
      " 66%|=============       | 5980/9078 [00:49<00:25]       \n",
      " 67%|=============       | 6112/9078 [00:50<00:24]       \n",
      " 69%|==============      | 6244/9078 [00:51<00:23]       \n",
      " 70%|==============      | 6378/9078 [00:52<00:22]       \n",
      " 72%|==============      | 6499/9078 [00:53<00:21]       \n",
      " 73%|===============     | 6616/9078 [00:54<00:20]       \n",
      " 74%|===============     | 6737/9078 [00:55<00:19]       \n",
      " 76%|===============     | 6857/9078 [00:56<00:18]       \n",
      " 77%|===============     | 6975/9078 [00:57<00:17]       \n",
      " 78%|================    | 7084/9078 [00:58<00:16]       \n",
      " 79%|================    | 7191/9078 [00:59<00:15]       \n",
      " 80%|================    | 7296/9078 [01:00<00:14]       \n",
      " 82%|================    | 7406/9078 [01:01<00:13]       \n",
      " 83%|=================   | 7523/9078 [01:02<00:12]       \n",
      " 84%|=================   | 7650/9078 [01:03<00:11]       \n",
      " 86%|=================   | 7776/9078 [01:04<00:10]       \n",
      " 87%|=================   | 7900/9078 [01:05<00:09]       \n",
      " 88%|==================  | 8031/9078 [01:06<00:08]       \n",
      " 90%|==================  | 8157/9078 [01:07<00:07]       \n",
      " 91%|==================  | 8287/9078 [01:08<00:06]       \n",
      " 93%|=================== | 8417/9078 [01:09<00:05]       \n",
      " 94%|=================== | 8549/9078 [01:10<00:04]       \n",
      " 95%|=================== | 8663/9078 [01:11<00:03]       \n",
      " 97%|=================== | 8789/9078 [01:12<00:02]       \n",
      " 98%|===================| 8914/9078 [01:13<00:01]       \n",
      "100%|===================| 9042/9078 [01:14<00:00]       \n"
     ]
    }
   ],
   "source": [
    "command = os.path.join('AnalysisScripts','RunModelAnalysisPresent.py') + ' ' +  os.path.join('AnalyzedDataTest','overallResPresent8_6.csv')\n",
    "!python $command"
   ]
  },
  {
   "cell_type": "markdown",
   "id": "26dcc583",
   "metadata": {},
   "source": [
    "# 8. Train, Test, and Evaluate XGBoost Model on Enriched Protein Data"
   ]
  },
  {
   "cell_type": "code",
   "execution_count": 78,
   "id": "d400aa73",
   "metadata": {
    "scrolled": true
   },
   "outputs": [
    {
     "name": "stdout",
     "output_type": "stream",
     "text": [
      "Figure(400x300)\n",
      "Figure(800x950)\n"
     ]
    },
    {
     "name": "stderr",
     "output_type": "stream",
     "text": [
      "[20:05:21] WARNING: C:\\buildkite-agent\\builds\\buildkite-windows-cpu-autoscaling-group-i-0b3782d1791676daf-1\\xgboost\\xgboost-ci-windows\\src\\c_api\\c_api.cc:1240: Saving into deprecated binary model format, please consider using `json` or `ubj`. Model format will default to JSON in XGBoost 2.2 if not specified.\n",
      "[20:05:22] WARNING: C:\\buildkite-agent\\builds\\buildkite-windows-cpu-autoscaling-group-i-0b3782d1791676daf-1\\xgboost\\xgboost-ci-windows\\src\\c_api\\c_api.cc:1240: Saving into deprecated binary model format, please consider using `json` or `ubj`. Model format will default to JSON in XGBoost 2.2 if not specified.\n",
      "\n",
      " 14%|===                 | 1242/9078 [00:11<01:09]       \n",
      " 15%|===                 | 1346/9078 [00:12<01:08]       \n",
      " 16%|===                 | 1451/9078 [00:13<01:08]       \n",
      " 17%|===                 | 1564/9078 [00:14<01:07]       \n",
      " 18%|====                | 1679/9078 [00:15<01:06]       \n",
      " 20%|====                | 1797/9078 [00:16<01:04]       \n",
      " 21%|====                | 1921/9078 [00:17<01:03]       \n",
      " 23%|=====               | 2046/9078 [00:18<01:01]       \n",
      " 24%|=====               | 2172/9078 [00:19<01:00]       \n",
      " 25%|=====               | 2285/9078 [00:20<00:59]       \n",
      " 26%|=====               | 2400/9078 [00:21<00:58]       \n",
      " 28%|======              | 2510/9078 [00:22<00:57]       \n",
      " 29%|======              | 2629/9078 [00:23<00:56]       \n",
      " 30%|======              | 2743/9078 [00:24<00:55]       \n",
      " 31%|======              | 2856/9078 [00:25<00:54]       \n",
      " 33%|=======             | 2974/9078 [00:26<00:53]       \n",
      " 34%|=======             | 3092/9078 [00:27<00:52]       \n",
      " 35%|=======             | 3206/9078 [00:28<00:51]       \n",
      " 36%|=======             | 3301/9078 [00:29<00:50]       \n",
      " 38%|========            | 3410/9078 [00:30<00:49]       \n",
      " 39%|========            | 3512/9078 [00:31<00:49]       \n",
      " 40%|========            | 3617/9078 [00:32<00:48]       \n",
      " 41%|========            | 3719/9078 [00:33<00:47]       \n",
      " 42%|========            | 3829/9078 [00:34<00:46]       \n",
      " 44%|=========           | 3949/9078 [00:35<00:45]       \n",
      " 45%|=========           | 4064/9078 [00:36<00:44]       \n",
      " 46%|=========           | 4186/9078 [00:37<00:43]       \n",
      " 47%|=========           | 4310/9078 [00:38<00:42]       \n",
      " 49%|==========          | 4423/9078 [00:39<00:41]       \n",
      " 50%|==========          | 4540/9078 [00:40<00:39]       \n",
      " 51%|==========          | 4659/9078 [00:41<00:38]       \n",
      " 53%|===========         | 4784/9078 [00:42<00:37]       \n",
      " 54%|===========         | 4897/9078 [00:43<00:36]       \n",
      " 55%|===========         | 5012/9078 [00:44<00:35]       \n",
      " 56%|===========         | 5126/9078 [00:45<00:34]       \n",
      " 58%|============        | 5236/9078 [00:46<00:33]       \n",
      " 59%|============        | 5355/9078 [00:47<00:32]       \n",
      " 60%|============        | 5466/9078 [00:48<00:31]       \n",
      " 61%|============        | 5581/9078 [00:49<00:30]       \n",
      " 63%|=============       | 5692/9078 [00:50<00:29]       \n",
      " 64%|=============       | 5812/9078 [00:51<00:28]       \n",
      " 65%|=============       | 5936/9078 [00:52<00:27]       \n",
      " 67%|=============       | 6059/9078 [00:53<00:26]       \n",
      " 68%|==============      | 6181/9078 [00:54<00:25]       \n",
      " 69%|==============      | 6304/9078 [00:55<00:24]       \n",
      " 71%|==============      | 6424/9078 [00:56<00:23]       \n",
      " 72%|==============      | 6540/9078 [00:57<00:22]       \n",
      " 73%|===============     | 6658/9078 [00:58<00:21]       \n",
      " 75%|===============     | 6777/9078 [00:59<00:20]       \n",
      " 76%|===============     | 6897/9078 [01:00<00:18]       \n",
      " 77%|===============     | 7006/9078 [01:01<00:18]       \n",
      " 78%|================    | 7114/9078 [01:02<00:17]       \n",
      " 80%|================    | 7226/9078 [01:03<00:16]       \n",
      " 81%|================    | 7337/9078 [01:04<00:15]       \n",
      " 82%|================    | 7447/9078 [01:05<00:14]       \n",
      " 83%|=================   | 7565/9078 [01:06<00:13]       \n",
      " 85%|=================   | 7681/9078 [01:07<00:12]       \n",
      " 86%|=================   | 7804/9078 [01:08<00:11]       \n",
      " 87%|=================   | 7932/9078 [01:09<00:09]       \n",
      " 89%|==================  | 8056/9078 [01:10<00:08]       \n",
      " 90%|==================  | 8175/9078 [01:11<00:07]       \n",
      " 91%|==================  | 8296/9078 [01:12<00:06]       \n",
      " 93%|=================== | 8412/9078 [01:13<00:05]       \n",
      " 94%|=================== | 8520/9078 [01:14<00:04]       \n",
      " 95%|=================== | 8629/9078 [01:15<00:03]       \n",
      " 96%|=================== | 8746/9078 [01:16<00:02]       \n",
      " 98%|===================| 8858/9078 [01:17<00:01]       \n",
      " 99%|===================| 8961/9078 [01:18<00:01]       \n",
      "100%|===================| 9067/9078 [01:19<00:00]       \n"
     ]
    }
   ],
   "source": [
    "command = os.path.join('AnalysisScripts','RunModelEnriched.py') + ' ' + os.path.join('AnalyzedDataTest','overallResEnriched8_6.csv')\n",
    "!python $command"
   ]
  },
  {
   "cell_type": "markdown",
   "id": "09d417e5",
   "metadata": {},
   "source": [
    "# 9. Evaluate Performance of Model Across Subsets of Data"
   ]
  },
  {
   "cell_type": "code",
   "execution_count": 79,
   "id": "77741e96",
   "metadata": {},
   "outputs": [
    {
     "name": "stdout",
     "output_type": "stream",
     "text": [
      "Figure(400x300)\n",
      "Figure(640x480)\n",
      "Figure(800x950)\n",
      "Figure(600x600)\n",
      "Figure(400x300)\n",
      "Figure(640x480)\n",
      "Figure(800x950)\n",
      "Figure(600x600)\n",
      "Figure(400x300)\n",
      "Figure(640x480)\n",
      "Figure(800x950)\n",
      "Figure(600x600)\n",
      "Figure(400x300)\n",
      "Figure(640x480)\n",
      "Figure(800x630)\n",
      "Figure(600x600)\n",
      "Figure(400x300)\n",
      "Figure(640x480)\n",
      "Figure(800x950)\n"
     ]
    },
    {
     "name": "stderr",
     "output_type": "stream",
     "text": [
      "[20:07:48] WARNING: C:\\buildkite-agent\\builds\\buildkite-windows-cpu-autoscaling-group-i-0b3782d1791676daf-1\\xgboost\\xgboost-ci-windows\\src\\c_api\\c_api.cc:1240: Saving into deprecated binary model format, please consider using `json` or `ubj`. Model format will default to JSON in XGBoost 2.2 if not specified.\n",
      "[20:07:49] WARNING: C:\\buildkite-agent\\builds\\buildkite-windows-cpu-autoscaling-group-i-0b3782d1791676daf-1\\xgboost\\xgboost-ci-windows\\src\\c_api\\c_api.cc:1240: Saving into deprecated binary model format, please consider using `json` or `ubj`. Model format will default to JSON in XGBoost 2.2 if not specified.\n",
      "\n",
      " 14%|===                 | 1315/9078 [00:11<01:04]       \n",
      " 16%|===                 | 1431/9078 [00:12<01:04]       \n",
      " 17%|===                 | 1551/9078 [00:13<01:03]       \n",
      " 18%|====                | 1674/9078 [00:14<01:01]       \n",
      " 20%|====                | 1798/9078 [00:15<01:00]       \n",
      " 21%|====                | 1927/9078 [00:16<00:59]       \n",
      " 23%|=====               | 2057/9078 [00:17<00:58]       \n",
      " 24%|=====               | 2184/9078 [00:18<00:56]       \n",
      " 25%|=====               | 2297/9078 [00:19<00:56]       \n",
      " 27%|=====               | 2415/9078 [00:20<00:55]       \n",
      " 28%|======              | 2528/9078 [00:21<00:54]       \n",
      " 29%|======              | 2649/9078 [00:22<00:53]       \n",
      " 31%|======              | 2772/9078 [00:23<00:52]       \n",
      " 32%|======              | 2885/9078 [00:24<00:51]       \n",
      " 33%|=======             | 3013/9078 [00:25<00:50]       \n",
      " 35%|=======             | 3139/9078 [00:26<00:49]       \n",
      " 36%|=======             | 3262/9078 [00:27<00:48]       \n",
      " 37%|=======             | 3377/9078 [00:28<00:47]       \n",
      " 38%|========            | 3488/9078 [00:29<00:46]       \n",
      " 40%|========            | 3603/9078 [00:30<00:45]       \n",
      " 41%|========            | 3722/9078 [00:31<00:44]       \n",
      " 42%|========            | 3841/9078 [00:32<00:43]       \n",
      " 44%|=========           | 3969/9078 [00:33<00:42]       \n",
      " 45%|=========           | 4097/9078 [00:34<00:41]       \n",
      " 47%|=========           | 4226/9078 [00:35<00:40]       \n",
      " 48%|==========          | 4353/9078 [00:36<00:39]       \n",
      " 49%|==========          | 4482/9078 [00:37<00:37]       \n",
      " 51%|==========          | 4610/9078 [00:38<00:36]       \n",
      " 52%|==========          | 4735/9078 [00:39<00:35]       \n",
      " 54%|===========         | 4861/9078 [00:40<00:34]       \n",
      " 55%|===========         | 4989/9078 [00:41<00:33]       \n",
      " 56%|===========         | 5115/9078 [00:42<00:32]       \n",
      " 58%|============        | 5241/9078 [00:43<00:31]       \n",
      " 59%|============        | 5371/9078 [00:44<00:30]       \n",
      " 61%|============        | 5496/9078 [00:45<00:29]       \n",
      " 62%|============        | 5624/9078 [00:46<00:28]       \n",
      " 63%|=============       | 5754/9078 [00:47<00:27]       \n",
      " 65%|=============       | 5881/9078 [00:48<00:26]       \n",
      " 66%|=============       | 6000/9078 [00:49<00:25]       \n",
      " 68%|==============      | 6129/9078 [00:50<00:24]       \n",
      " 69%|==============      | 6260/9078 [00:51<00:22]       \n",
      " 70%|==============      | 6391/9078 [00:52<00:21]       \n",
      " 72%|==============      | 6506/9078 [00:53<00:20]       \n",
      " 73%|===============     | 6618/9078 [00:54<00:20]       \n",
      " 74%|===============     | 6736/9078 [00:55<00:19]       \n",
      " 75%|===============     | 6851/9078 [00:56<00:18]       \n",
      " 77%|===============     | 6947/9078 [00:57<00:17]       \n",
      " 78%|================    | 7049/9078 [00:58<00:16]       \n",
      " 79%|================    | 7150/9078 [00:59<00:15]       \n",
      " 80%|================    | 7245/9078 [01:00<00:15]       \n",
      " 81%|================    | 7330/9078 [01:01<00:14]       \n",
      " 82%|================    | 7429/9078 [01:02<00:13]       \n",
      " 83%|=================   | 7528/9078 [01:03<00:12]       \n",
      " 84%|=================   | 7632/9078 [01:04<00:12]       \n",
      " 85%|=================   | 7743/9078 [01:05<00:11]       \n",
      " 87%|=================   | 7868/9078 [01:06<00:10]       \n",
      " 88%|==================  | 7991/9078 [01:07<00:09]       \n",
      " 89%|==================  | 8091/9078 [01:08<00:08]       \n",
      " 90%|==================  | 8203/9078 [01:09<00:07]       \n",
      " 91%|==================  | 8306/9078 [01:10<00:06]       \n",
      " 93%|=================== | 8415/9078 [01:11<00:05]       \n",
      " 94%|=================== | 8526/9078 [01:12<00:04]       \n",
      " 95%|=================== | 8632/9078 [01:13<00:03]       \n",
      " 96%|=================== | 8739/9078 [01:14<00:02]       \n",
      " 97%|=================== | 8846/9078 [01:15<00:01]       \n",
      " 98%|===================| 8937/9078 [01:16<00:01]       \n",
      "100%|===================| 9043/9078 [01:17<00:00]       [20:09:56] WARNING: C:\\buildkite-agent\\builds\\buildkite-windows-cpu-autoscaling-group-i-0b3782d1791676daf-1\\xgboost\\xgboost-ci-windows\\src\\c_api\\c_api.cc:1240: Saving into deprecated binary model format, please consider using `json` or `ubj`. Model format will default to JSON in XGBoost 2.2 if not specified.\n",
      "\n",
      " 19%|====                | 1708/9078 [00:11<00:47]       \n",
      " 21%|====                | 1871/9078 [00:12<00:46]       \n",
      " 22%|====                | 2041/9078 [00:13<00:44]       \n",
      " 24%|=====               | 2207/9078 [00:14<00:43]       \n",
      " 26%|=====               | 2372/9078 [00:15<00:42]       \n",
      " 28%|======              | 2536/9078 [00:16<00:41]       \n",
      " 30%|======              | 2701/9078 [00:17<00:40]       \n",
      " 31%|======              | 2848/9078 [00:18<00:39]       \n",
      " 33%|=======             | 3012/9078 [00:19<00:38]       \n",
      " 35%|=======             | 3164/9078 [00:20<00:37]       \n",
      " 37%|=======             | 3315/9078 [00:21<00:36]       \n",
      " 38%|========            | 3468/9078 [00:22<00:35]       \n",
      " 40%|========            | 3634/9078 [00:23<00:34]       \n",
      " 42%|========            | 3794/9078 [00:24<00:33]       \n",
      " 44%|=========           | 3950/9078 [00:25<00:32]       \n",
      " 45%|=========           | 4118/9078 [00:26<00:31]       \n",
      " 47%|=========           | 4290/9078 [00:27<00:30]       \n",
      " 49%|==========          | 4437/9078 [00:28<00:29]       \n",
      " 51%|==========          | 4599/9078 [00:29<00:28]       \n",
      " 52%|==========          | 4750/9078 [00:30<00:27]       \n",
      " 54%|===========         | 4905/9078 [00:31<00:26]       \n",
      " 56%|===========         | 5062/9078 [00:32<00:25]       \n",
      " 58%|============        | 5230/9078 [00:33<00:24]       \n",
      " 59%|============        | 5387/9078 [00:34<00:23]       \n",
      " 61%|============        | 5548/9078 [00:35<00:22]       \n",
      " 63%|=============       | 5711/9078 [00:36<00:21]       \n",
      " 65%|=============       | 5883/9078 [00:37<00:20]       \n",
      " 66%|=============       | 6030/9078 [00:38<00:19]       \n",
      " 68%|==============      | 6188/9078 [00:39<00:18]       \n",
      " 70%|==============      | 6356/9078 [00:40<00:17]       \n",
      " 72%|==============      | 6516/9078 [00:41<00:16]       \n",
      " 74%|===============     | 6680/9078 [00:42<00:15]       \n",
      " 75%|===============     | 6849/9078 [00:43<00:13]       \n",
      " 77%|===============     | 6990/9078 [00:44<00:13]       \n",
      " 78%|================    | 7118/9078 [00:45<00:12]       \n",
      " 80%|================    | 7273/9078 [00:46<00:11]       \n",
      " 82%|================    | 7447/9078 [00:47<00:10]       \n",
      " 84%|=================   | 7596/9078 [00:48<00:09]       \n",
      " 85%|=================   | 7755/9078 [00:49<00:08]       \n",
      " 87%|=================   | 7919/9078 [00:50<00:07]       \n",
      " 89%|==================  | 8080/9078 [00:51<00:06]       \n",
      " 91%|==================  | 8240/9078 [00:52<00:05]       \n",
      " 93%|=================== | 8409/9078 [00:53<00:04]       \n",
      " 95%|=================== | 8580/9078 [00:54<00:03]       \n",
      " 96%|=================== | 8729/9078 [00:55<00:02]       \n",
      " 98%|===================| 8889/9078 [00:56<00:01]       \n",
      "100%|===================| 9058/9078 [00:57<00:00]       [20:11:23] WARNING: C:\\buildkite-agent\\builds\\buildkite-windows-cpu-autoscaling-group-i-0b3782d1791676daf-1\\xgboost\\xgboost-ci-windows\\src\\c_api\\c_api.cc:1240: Saving into deprecated binary model format, please consider using `json` or `ubj`. Model format will default to JSON in XGBoost 2.2 if not specified.\n",
      "\n",
      " 36%|=======             | 3262/9078 [00:11<00:19]       \n",
      " 40%|========            | 3588/9078 [00:12<00:18]       \n",
      " 43%|=========           | 3912/9078 [00:13<00:17]       \n",
      " 46%|=========           | 4219/9078 [00:14<00:16]       \n",
      " 50%|==========          | 4538/9078 [00:15<00:15]       \n",
      " 54%|===========         | 4859/9078 [00:16<00:13]       \n",
      " 57%|===========         | 5178/9078 [00:17<00:12]       \n",
      " 61%|============        | 5498/9078 [00:18<00:11]       \n",
      " 64%|=============       | 5814/9078 [00:19<00:10]       \n",
      " 68%|==============      | 6128/9078 [00:20<00:09]       \n",
      " 71%|==============      | 6452/9078 [00:21<00:08]       \n",
      " 75%|===============     | 6769/9078 [00:22<00:07]       \n",
      " 78%|================    | 7097/9078 [00:23<00:06]       \n",
      " 82%|================    | 7416/9078 [00:24<00:05]       \n",
      " 85%|=================   | 7716/9078 [00:25<00:04]       \n",
      " 89%|==================  | 8036/9078 [00:26<00:03]       \n",
      " 92%|==================  | 8354/9078 [00:27<00:02]       \n",
      " 95%|=================== | 8662/9078 [00:28<00:01]       \n",
      " 99%|===================| 8982/9078 [00:29<00:00]       [20:12:09] WARNING: C:\\buildkite-agent\\builds\\buildkite-windows-cpu-autoscaling-group-i-0b3782d1791676daf-1\\xgboost\\xgboost-ci-windows\\src\\c_api\\c_api.cc:1240: Saving into deprecated binary model format, please consider using `json` or `ubj`. Model format will default to JSON in XGBoost 2.2 if not specified.\n",
      "[20:12:53] WARNING: C:\\buildkite-agent\\builds\\buildkite-windows-cpu-autoscaling-group-i-0b3782d1791676daf-1\\xgboost\\xgboost-ci-windows\\src\\c_api\\c_api.cc:1240: Saving into deprecated binary model format, please consider using `json` or `ubj`. Model format will default to JSON in XGBoost 2.2 if not specified.\n",
      "\n",
      " 14%|===                 | 1244/9078 [00:11<01:09]       \n",
      " 15%|===                 | 1357/9078 [00:12<01:08]       \n",
      " 16%|===                 | 1464/9078 [00:13<01:07]       \n",
      " 17%|===                 | 1577/9078 [00:14<01:06]       \n",
      " 19%|====                | 1704/9078 [00:15<01:04]       \n",
      " 20%|====                | 1838/9078 [00:16<01:03]       \n",
      " 22%|====                | 1971/9078 [00:17<01:01]       \n",
      " 23%|=====               | 2105/9078 [00:18<00:59]       \n",
      " 24%|=====               | 2224/9078 [00:19<00:58]       \n",
      " 26%|=====               | 2341/9078 [00:20<00:57]       \n",
      " 27%|=====               | 2459/9078 [00:21<00:56]       \n",
      " 28%|======              | 2581/9078 [00:22<00:55]       \n",
      " 30%|======              | 2698/9078 [00:23<00:54]       \n",
      " 31%|======              | 2823/9078 [00:24<00:53]       \n",
      " 32%|======              | 2947/9078 [00:25<00:52]       \n",
      " 34%|=======             | 3075/9078 [00:26<00:50]       \n",
      " 35%|=======             | 3206/9078 [00:27<00:49]       \n",
      " 37%|=======             | 3319/9078 [00:28<00:48]       \n",
      " 38%|========            | 3436/9078 [00:29<00:47]       \n",
      " 39%|========            | 3547/9078 [00:30<00:46]       \n",
      " 40%|========            | 3666/9078 [00:31<00:45]       \n",
      " 42%|========            | 3788/9078 [00:32<00:44]       \n",
      " 43%|=========           | 3918/9078 [00:33<00:43]       \n",
      " 45%|=========           | 4047/9078 [00:34<00:42]       \n",
      " 46%|=========           | 4179/9078 [00:35<00:41]       \n",
      " 47%|=========           | 4307/9078 [00:36<00:39]       \n",
      " 49%|==========          | 4437/9078 [00:37<00:38]       \n",
      " 50%|==========          | 4569/9078 [00:38<00:37]       \n",
      " 52%|==========          | 4702/9078 [00:39<00:36]       \n",
      " 53%|===========         | 4837/9078 [00:40<00:35]       \n",
      " 55%|===========         | 4963/9078 [00:41<00:33]       \n",
      " 56%|===========         | 5092/9078 [00:42<00:32]       \n",
      " 58%|============        | 5228/9078 [00:43<00:31]       \n",
      " 59%|============        | 5362/9078 [00:44<00:30]       \n",
      " 60%|============        | 5491/9078 [00:45<00:29]       \n",
      " 62%|============        | 5621/9078 [00:46<00:28]       \n",
      " 63%|=============       | 5744/9078 [00:47<00:27]       \n",
      " 65%|=============       | 5875/9078 [00:48<00:26]       \n",
      " 66%|=============       | 6000/9078 [00:49<00:25]       \n",
      " 68%|==============      | 6131/9078 [00:50<00:24]       \n",
      " 69%|==============      | 6259/9078 [00:51<00:22]       \n",
      " 70%|==============      | 6393/9078 [00:52<00:21]       \n",
      " 72%|==============      | 6508/9078 [00:53<00:20]       \n",
      " 73%|===============     | 6625/9078 [00:54<00:19]       \n",
      " 74%|===============     | 6744/9078 [00:55<00:19]       \n",
      " 76%|===============     | 6865/9078 [00:56<00:18]       \n",
      " 77%|===============     | 6980/9078 [00:57<00:17]       \n",
      " 78%|================    | 7081/9078 [00:58<00:16]       \n",
      " 79%|================    | 7190/9078 [00:59<00:15]       \n",
      " 80%|================    | 7296/9078 [01:00<00:14]       \n",
      " 82%|================    | 7403/9078 [01:01<00:13]       \n",
      " 83%|=================   | 7519/9078 [01:02<00:12]       \n",
      " 84%|=================   | 7649/9078 [01:03<00:11]       \n",
      " 86%|=================   | 7775/9078 [01:04<00:10]       \n",
      " 87%|=================   | 7905/9078 [01:05<00:09]       \n",
      " 88%|==================  | 8034/9078 [01:06<00:08]       \n",
      " 90%|==================  | 8161/9078 [01:07<00:07]       \n",
      " 91%|==================  | 8291/9078 [01:08<00:06]       \n",
      " 93%|=================== | 8417/9078 [01:09<00:05]       \n",
      " 94%|=================== | 8548/9078 [01:10<00:04]       \n",
      " 96%|=================== | 8673/9078 [01:11<00:03]       \n",
      " 97%|=================== | 8800/9078 [01:12<00:02]       \n",
      " 98%|===================| 8926/9078 [01:13<00:01]       \n",
      "100%|===================| 9055/9078 [01:14<00:00]       Traceback (most recent call last):\n",
      "  File \"C:\\Users\\jared\\DNANano_ProteinCorona_ML\\AnalysisScripts\\PerformanceAcrossSubsets.py\", line 86, in <module>\n",
      "    metrics.to_csv(outputDir + 'SubsetComparison.csv')\n",
      "  File \"C:\\Users\\jared\\AppData\\Local\\Packages\\PythonSoftwareFoundation.Python.3.10_qbz5n2kfra8p0\\LocalCache\\local-packages\\Python310\\site-packages\\pandas\\util\\_decorators.py\", line 211, in wrapper\n",
      "    return func(*args, **kwargs)\n",
      "  File \"C:\\Users\\jared\\AppData\\Local\\Packages\\PythonSoftwareFoundation.Python.3.10_qbz5n2kfra8p0\\LocalCache\\local-packages\\Python310\\site-packages\\pandas\\core\\generic.py\", line 3720, in to_csv\n",
      "    return DataFrameRenderer(formatter).to_csv(\n",
      "  File \"C:\\Users\\jared\\AppData\\Local\\Packages\\PythonSoftwareFoundation.Python.3.10_qbz5n2kfra8p0\\LocalCache\\local-packages\\Python310\\site-packages\\pandas\\util\\_decorators.py\", line 211, in wrapper\n",
      "    return func(*args, **kwargs)\n",
      "  File \"C:\\Users\\jared\\AppData\\Local\\Packages\\PythonSoftwareFoundation.Python.3.10_qbz5n2kfra8p0\\LocalCache\\local-packages\\Python310\\site-packages\\pandas\\io\\formats\\format.py\", line 1189, in to_csv\n",
      "    csv_formatter.save()\n",
      "  File \"C:\\Users\\jared\\AppData\\Local\\Packages\\PythonSoftwareFoundation.Python.3.10_qbz5n2kfra8p0\\LocalCache\\local-packages\\Python310\\site-packages\\pandas\\io\\formats\\csvs.py\", line 241, in save\n",
      "    with get_handle(\n",
      "  File \"C:\\Users\\jared\\AppData\\Local\\Packages\\PythonSoftwareFoundation.Python.3.10_qbz5n2kfra8p0\\LocalCache\\local-packages\\Python310\\site-packages\\pandas\\io\\common.py\", line 856, in get_handle\n",
      "    handle = open(\n",
      "PermissionError: [Errno 13] Permission denied: 'Results\\\\SubsetComparison.csv'\n"
     ]
    }
   ],
   "source": [
    "command = os.path.join('AnalysisScripts','PerformanceAcrossSubsets.py') + ' ' + os.path.join('AnalyzedDataTest','overallResPresent8_6.csv') + ' ' + os.path.join('Data','origamiDatabase.xlsx') + ' ' + os.path.join('AnalyzedDataTest','FunctionList8_6.csv')\n",
    "!python $command"
   ]
  },
  {
   "cell_type": "markdown",
   "id": "16bd93e1",
   "metadata": {},
   "source": [
    "# 10. Determine Enrichment of Proteins with Different Molecular Functions"
   ]
  },
  {
   "cell_type": "code",
   "execution_count": 80,
   "id": "194b8399",
   "metadata": {},
   "outputs": [
    {
     "name": "stderr",
     "output_type": "stream",
     "text": [
      "C:\\Users\\jared\\AppData\\Local\\Packages\\PythonSoftwareFoundation.Python.3.10_qbz5n2kfra8p0\\LocalCache\\local-packages\\Python310\\site-packages\\seaborn\\categorical.py:82: FutureWarning: iteritems is deprecated and will be removed in a future version. Use .items instead.\n",
      "  plot_data = [np.asarray(s, float) for k, s in iter_data]\n"
     ]
    }
   ],
   "source": [
    "command = os.path.join('AnalysisScripts','FunctionalEnrichment.py') + ' ' + os.path.join('AnalyzedDataTest','overallResPresent8_6.csv') + ' ' + os.path.join('AnalyzedDataTest','FunctionList8_6.csv')\n",
    "!python $command"
   ]
  },
  {
   "cell_type": "markdown",
   "id": "929fad92",
   "metadata": {},
   "source": [
    "# 11. Find Proteins Commonly Present in the Corona of Different Nanostructures"
   ]
  },
  {
   "cell_type": "code",
   "execution_count": 75,
   "id": "073cfb70",
   "metadata": {},
   "outputs": [],
   "source": [
    "command = os.path.join('AnalysisScripts','CommonProteins.py') + ' ' + os.path.join('AnalyzedDataTest','overallResPresent8_6.csv')\n",
    "!python $command"
   ]
  },
  {
   "cell_type": "markdown",
   "id": "826c78be",
   "metadata": {},
   "source": [
    "# 12. Find Protein Properties Different Between Adsorbed and Absent Proteins"
   ]
  },
  {
   "cell_type": "code",
   "execution_count": 57,
   "id": "fc50ece1",
   "metadata": {
    "scrolled": true
   },
   "outputs": [
    {
     "name": "stderr",
     "output_type": "stream",
     "text": [
      "C:\\Users\\jared\\DNANano_ProteinCorona_ML\\AnalysisScripts\\DifferentProteinsProperties.py:64: SettingWithCopyWarning: \n",
      "A value is trying to be set on a copy of a slice from a DataFrame.\n",
      "Try using .loc[row_indexer,col_indexer] = value instead\n",
      "\n",
      "See the caveats in the documentation: https://pandas.pydata.org/pandas-docs/stable/user_guide/indexing.html#returning-a-view-versus-a-copy\n",
      "  compSmall['Dataset'] = comparison['Dataset']\n",
      "C:\\Users\\jared\\DNANano_ProteinCorona_ML\\AnalysisScripts\\DifferentProteinsProperties.py:65: SettingWithCopyWarning: \n",
      "A value is trying to be set on a copy of a slice from a DataFrame.\n",
      "Try using .loc[row_indexer,col_indexer] = value instead\n",
      "\n",
      "See the caveats in the documentation: https://pandas.pydata.org/pandas-docs/stable/user_guide/indexing.html#returning-a-view-versus-a-copy\n",
      "  compSmall['Dummy'] = 0\n",
      "C:\\Users\\jared\\DNANano_ProteinCorona_ML\\AnalysisScripts\\DifferentProteinsProperties.py:83: SettingWithCopyWarning: \n",
      "A value is trying to be set on a copy of a slice from a DataFrame.\n",
      "Try using .loc[row_indexer,col_indexer] = value instead\n",
      "\n",
      "See the caveats in the documentation: https://pandas.pydata.org/pandas-docs/stable/user_guide/indexing.html#returning-a-view-versus-a-copy\n",
      "  compSmall['Dummy'] = 0\n",
      "C:\\Users\\jared\\DNANano_ProteinCorona_ML\\AnalysisScripts\\DifferentProteinsProperties.py:84: SettingWithCopyWarning: \n",
      "A value is trying to be set on a copy of a slice from a DataFrame.\n",
      "Try using .loc[row_indexer,col_indexer] = value instead\n",
      "\n",
      "See the caveats in the documentation: https://pandas.pydata.org/pandas-docs/stable/user_guide/indexing.html#returning-a-view-versus-a-copy\n",
      "  compSmall['Dataset'] = comparison['Dataset']\n"
     ]
    }
   ],
   "source": [
    "command = os.path.join('AnalysisScripts','DifferentProteinsProperties.py') + ' ' + os.path.join('AnalyzedDataTest','ProStatistics8_7.csv') + ' ' + os.path.join('AnalyzedDataTest','overallResPresent8_6.csv')\n",
    "!python $command"
   ]
  },
  {
   "cell_type": "markdown",
   "id": "24be0e10",
   "metadata": {},
   "source": [
    "# 13. Evaluate the Enrichment of Endocytosis-Assosciated Proteins "
   ]
  },
  {
   "cell_type": "code",
   "execution_count": 74,
   "id": "f06d0242",
   "metadata": {},
   "outputs": [],
   "source": [
    "command = os.path.join('AnalysisScripts','EndocyticProteinEnrichment.py') + ' ' + os.path.join('Data','string_mapping.tsv') + ' ' + os.path.join('Data','string_interactions_short.tsv') + ' ' + os.path.join('AnalyzedDataTest','overallResPresent8_6.csv')\n",
    "!python $command"
   ]
  },
  {
   "cell_type": "markdown",
   "id": "d5a891f6",
   "metadata": {},
   "source": [
    "# 14. Evaluate Difference in Corona Composition Between Modified and Unmodified Nanostructures"
   ]
  },
  {
   "cell_type": "code",
   "execution_count": 61,
   "id": "b1beb305",
   "metadata": {},
   "outputs": [
    {
     "name": "stdout",
     "output_type": "stream",
     "text": [
      "Chol Only: 105  ; Bare only: 25 ; Both: 152\n"
     ]
    }
   ],
   "source": [
    "command = os.path.join('AnalysisScripts','Modified_vs_Unmodified.py') + ' ' + os.path.join('AnalyzedDataTest','overallResPresent8_6.csv')\n",
    "!python $command"
   ]
  },
  {
   "cell_type": "markdown",
   "id": "3e6b340d",
   "metadata": {},
   "source": [
    "# 15. Run Classifier on Individual Nanostructures"
   ]
  },
  {
   "cell_type": "code",
   "execution_count": 82,
   "id": "eed409ce",
   "metadata": {},
   "outputs": [
    {
     "name": "stdout",
     "output_type": "stream",
     "text": [
      "Figure(400x300)\n",
      "Figure(640x480)\n"
     ]
    }
   ],
   "source": [
    "command = os.path.join('AnalysisScripts','RunClassifier_EachNanostructure.py') + ' ' + os.path.join('AnalyzedDataTest','overallResPresent8_6.csv')\n",
    "!python $command"
   ]
  },
  {
   "cell_type": "markdown",
   "id": "f5e28b3a",
   "metadata": {},
   "source": [
    "# 16. Test and Evaluate Different ML Models"
   ]
  },
  {
   "cell_type": "code",
   "execution_count": 7,
   "id": "17f2565c",
   "metadata": {},
   "outputs": [],
   "source": [
    "command = os.path.join('AnalysisScripts','ModelComparison.py') + ' ' + os.path.join('AnalyzedDataTest','overallResPresent8_6.csv')\n",
    "!python $command"
   ]
  },
  {
   "cell_type": "markdown",
   "id": "1cf8b3e0",
   "metadata": {},
   "source": [
    "# 17. Training the model on all coated nanostructures and all bare nanostructures seperately"
   ]
  },
  {
   "cell_type": "code",
   "execution_count": null,
   "id": "15922e39",
   "metadata": {},
   "outputs": [],
   "source": [
    "command = os.path.join('AnalysisScripts','CoatedvsUncoatedModels.py') + ' ' + os.path.join('AnalyzedDataTest','overallResPresent8_6.csv')\n",
    "!python $command"
   ]
  }
 ],
 "metadata": {
  "kernelspec": {
   "display_name": "Python 3 (ipykernel)",
   "language": "python",
   "name": "python3"
  },
  "language_info": {
   "codemirror_mode": {
    "name": "ipython",
    "version": 3
   },
   "file_extension": ".py",
   "mimetype": "text/x-python",
   "name": "python",
   "nbconvert_exporter": "python",
   "pygments_lexer": "ipython3",
   "version": "3.10.11"
  }
 },
 "nbformat": 4,
 "nbformat_minor": 5
}

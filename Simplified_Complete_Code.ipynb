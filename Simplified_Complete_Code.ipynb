{
 "cells": [
  {
   "cell_type": "markdown",
   "id": "6730c89e",
   "metadata": {},
   "source": [
    "# 1. Get LCMS Data and Protein Names"
   ]
  },
  {
   "cell_type": "code",
   "execution_count": 15,
   "id": "70511f70",
   "metadata": {
    "scrolled": true
   },
   "outputs": [
    {
     "name": "stdout",
     "output_type": "stream",
     "text": [
      "set()\n",
      "set()\n",
      "set()\n",
      "set()\n",
      "set()\n",
      "set()\n",
      "set()\n",
      "set()\n",
      "set()\n",
      "set()\n",
      "set()\n",
      "set()\n",
      "set()\n",
      "set()\n",
      "set()\n",
      "set()\n",
      "set()\n",
      "set()\n",
      "set()\n",
      "set()\n",
      "set()\n",
      "set()\n",
      "set()\n",
      "set()\n",
      "set()\n",
      "set()\n",
      "set()\n",
      "set()\n",
      "set()\n",
      "set()\n",
      "set()\n",
      "set()\n",
      "set()\n",
      "set()\n",
      "set()\n",
      "set()\n"
     ]
    }
   ],
   "source": [
    "import os\n",
    "command = os.path.join('DatabaseFormation','LCMS_BinaryExtraction.py') + ' ' + os.path.join('Data','MBsubtracted_LCMS_Data.xlsx')\n",
    "!python $command"
   ]
  },
  {
   "cell_type": "markdown",
   "id": "bb81ada8",
   "metadata": {},
   "source": [
    "# 2. Get Netsurf Protein Properties"
   ]
  },
  {
   "cell_type": "code",
   "execution_count": 16,
   "id": "01dac406",
   "metadata": {},
   "outputs": [],
   "source": [
    "command = os.path.join('DatabaseFormation','NetSurfAnalysis.py') + ' ' + os.path.join('Data','netSurf','')\n",
    "!python $command"
   ]
  },
  {
   "cell_type": "markdown",
   "id": "9700bfb0",
   "metadata": {},
   "source": [
    "# 3. Identify UniProt IDs"
   ]
  },
  {
   "cell_type": "code",
   "execution_count": 19,
   "id": "81a476de",
   "metadata": {
    "scrolled": true
   },
   "outputs": [
    {
     "name": "stderr",
     "output_type": "stream",
     "text": [
      "C:\\Users\\jared\\DNANano_ProteinCorona_ML\\DatabaseFormation\\UniProtID_Indentification.py:106: FutureWarning: The frame.append method is deprecated and will be removed from pandas in a future version. Use pandas.concat instead.\n",
      "  allPresNew=allPresNew.append(addArray)\n",
      "C:\\Users\\jared\\DNANano_ProteinCorona_ML\\DatabaseFormation\\UniProtID_Indentification.py:106: FutureWarning: The frame.append method is deprecated and will be removed from pandas in a future version. Use pandas.concat instead.\n",
      "  allPresNew=allPresNew.append(addArray)\n",
      "C:\\Users\\jared\\DNANano_ProteinCorona_ML\\DatabaseFormation\\UniProtID_Indentification.py:106: FutureWarning: The frame.append method is deprecated and will be removed from pandas in a future version. Use pandas.concat instead.\n",
      "  allPresNew=allPresNew.append(addArray)\n",
      "C:\\Users\\jared\\DNANano_ProteinCorona_ML\\DatabaseFormation\\UniProtID_Indentification.py:106: FutureWarning: The frame.append method is deprecated and will be removed from pandas in a future version. Use pandas.concat instead.\n",
      "  allPresNew=allPresNew.append(addArray)\n",
      "C:\\Users\\jared\\DNANano_ProteinCorona_ML\\DatabaseFormation\\UniProtID_Indentification.py:106: FutureWarning: The frame.append method is deprecated and will be removed from pandas in a future version. Use pandas.concat instead.\n",
      "  allPresNew=allPresNew.append(addArray)\n",
      "C:\\Users\\jared\\DNANano_ProteinCorona_ML\\DatabaseFormation\\UniProtID_Indentification.py:106: FutureWarning: The frame.append method is deprecated and will be removed from pandas in a future version. Use pandas.concat instead.\n",
      "  allPresNew=allPresNew.append(addArray)\n",
      "C:\\Users\\jared\\DNANano_ProteinCorona_ML\\DatabaseFormation\\UniProtID_Indentification.py:106: FutureWarning: The frame.append method is deprecated and will be removed from pandas in a future version. Use pandas.concat instead.\n",
      "  allPresNew=allPresNew.append(addArray)\n",
      "C:\\Users\\jared\\DNANano_ProteinCorona_ML\\DatabaseFormation\\UniProtID_Indentification.py:106: FutureWarning: The frame.append method is deprecated and will be removed from pandas in a future version. Use pandas.concat instead.\n",
      "  allPresNew=allPresNew.append(addArray)\n",
      "C:\\Users\\jared\\DNANano_ProteinCorona_ML\\DatabaseFormation\\UniProtID_Indentification.py:106: FutureWarning: The frame.append method is deprecated and will be removed from pandas in a future version. Use pandas.concat instead.\n",
      "  allPresNew=allPresNew.append(addArray)\n",
      "C:\\Users\\jared\\DNANano_ProteinCorona_ML\\DatabaseFormation\\UniProtID_Indentification.py:106: FutureWarning: The frame.append method is deprecated and will be removed from pandas in a future version. Use pandas.concat instead.\n",
      "  allPresNew=allPresNew.append(addArray)\n",
      "C:\\Users\\jared\\DNANano_ProteinCorona_ML\\DatabaseFormation\\UniProtID_Indentification.py:106: FutureWarning: The frame.append method is deprecated and will be removed from pandas in a future version. Use pandas.concat instead.\n",
      "  allPresNew=allPresNew.append(addArray)\n",
      "C:\\Users\\jared\\DNANano_ProteinCorona_ML\\DatabaseFormation\\UniProtID_Indentification.py:106: FutureWarning: The frame.append method is deprecated and will be removed from pandas in a future version. Use pandas.concat instead.\n",
      "  allPresNew=allPresNew.append(addArray)\n",
      "C:\\Users\\jared\\DNANano_ProteinCorona_ML\\DatabaseFormation\\UniProtID_Indentification.py:106: FutureWarning: The frame.append method is deprecated and will be removed from pandas in a future version. Use pandas.concat instead.\n",
      "  allPresNew=allPresNew.append(addArray)\n",
      "C:\\Users\\jared\\DNANano_ProteinCorona_ML\\DatabaseFormation\\UniProtID_Indentification.py:106: FutureWarning: The frame.append method is deprecated and will be removed from pandas in a future version. Use pandas.concat instead.\n",
      "  allPresNew=allPresNew.append(addArray)\n",
      "C:\\Users\\jared\\DNANano_ProteinCorona_ML\\DatabaseFormation\\UniProtID_Indentification.py:106: FutureWarning: The frame.append method is deprecated and will be removed from pandas in a future version. Use pandas.concat instead.\n",
      "  allPresNew=allPresNew.append(addArray)\n",
      "C:\\Users\\jared\\DNANano_ProteinCorona_ML\\DatabaseFormation\\UniProtID_Indentification.py:106: FutureWarning: The frame.append method is deprecated and will be removed from pandas in a future version. Use pandas.concat instead.\n",
      "  allPresNew=allPresNew.append(addArray)\n",
      "C:\\Users\\jared\\DNANano_ProteinCorona_ML\\DatabaseFormation\\UniProtID_Indentification.py:106: FutureWarning: The frame.append method is deprecated and will be removed from pandas in a future version. Use pandas.concat instead.\n",
      "  allPresNew=allPresNew.append(addArray)\n"
     ]
    }
   ],
   "source": [
    "command = os.path.join('DatabaseFormation','UniProtID_Indentification.py') + ' ' + os.path.join('AnalyzedDataTest','PresentProteins8_4.csv')\n",
    "!python $command"
   ]
  },
  {
   "cell_type": "markdown",
   "id": "26f69810",
   "metadata": {},
   "source": [
    "# 4. Extract Structural and Functional Data from UniProt and QuantiProt"
   ]
  },
  {
   "cell_type": "code",
   "execution_count": null,
   "id": "89b088ea",
   "metadata": {},
   "outputs": [],
   "source": [
    "command = os.path.join('DatabaseFormation','UniprotQuantiprot_Structural_Functional_Info.py') + ' ' + os.path.join('AnalyzedDataTest','TranslatedPresent8_6.csv')\n",
    "!python $command"
   ]
  },
  {
   "cell_type": "markdown",
   "id": "2599dc5a",
   "metadata": {},
   "source": [
    "# 5. Merge  Protein Properties"
   ]
  },
  {
   "cell_type": "code",
   "execution_count": null,
   "id": "0e31d791",
   "metadata": {},
   "outputs": [],
   "source": [
    "dir1 = 'AnalyzedTestData'\n",
    "files = ['ProData8_6.csv','functionalInfo.csv','flexibility.csv','interactivityData.csv','moreNetSurf.csv',\n",
    "        'secondaryAminoAcid.csv','aminoAcid.csv','exposedAminoAcid.csv','combos.csv']\n",
    "command = \"\"\n",
    "for fileVal in files:\n",
    "    command += os.path.join(dir1, fileVal)\n",
    "    command +=\" \"\n",
    "\n",
    "command1 = os.path.join('DatabaseFormation','Merge_Protein_Data.py') + ' ' + command\n",
    "\n",
    "!python $command1"
   ]
  },
  {
   "cell_type": "markdown",
   "id": "253496af",
   "metadata": {},
   "source": [
    "# 6. Merge LCMS, Protein, and Nano Features"
   ]
  },
  {
   "cell_type": "code",
   "execution_count": null,
   "id": "4782942a",
   "metadata": {},
   "outputs": [],
   "source": [
    "command = os.path.join('DatabaseFormation','Merge_Nano_Protein_LCMS.py') + ' ' + os.path.join('Data','origamiDatabase.xlsx') + ' ' +  os.path.join('AnalyzedDataTest','TranslatedPresent8_6.csv') + ' ' +  os.path.join('Data','origamiDatabase.xlsx') + ' ' +  os.path.join('AnalyzedDataTest','ProStatistics8_5.csv')\n",
    "!python $command"
   ]
  },
  {
   "cell_type": "markdown",
   "id": "6dd3addf",
   "metadata": {},
   "source": [
    "# Analysis"
   ]
  },
  {
   "cell_type": "markdown",
   "id": "0be3adcd",
   "metadata": {},
   "source": [
    "# 7. Train, Test, and Evaluate XGBoost Model on Present Protein Data"
   ]
  },
  {
   "cell_type": "code",
   "execution_count": null,
   "id": "0c73e3d7",
   "metadata": {},
   "outputs": [],
   "source": [
    "command = os.path.join('AnalysisScripts','RunModelAnalysisPresent.py') + ' ' +  os.path.join('AnalyzedDataTest','overallResPresent8_6.csv')\n",
    "!python $command"
   ]
  },
  {
   "cell_type": "markdown",
   "id": "f97b86c9",
   "metadata": {},
   "source": [
    "# 8. Train, Test, and Evaluate XGBoost Model on Enriched Protein Data"
   ]
  },
  {
   "cell_type": "code",
   "execution_count": null,
   "id": "2135ab2c",
   "metadata": {},
   "outputs": [],
   "source": [
    "command = os.path.join('AnalysisScripts','RunModelEnriched.py') + ' ' + os.path.join('AnalyzedDataTest','overallResEnriched8_6.csv')\n",
    "!python $command"
   ]
  },
  {
   "cell_type": "markdown",
   "id": "de3939fd",
   "metadata": {},
   "source": [
    "# 9. Evaluate Performance of Model Across Subsets of Data"
   ]
  },
  {
   "cell_type": "code",
   "execution_count": null,
   "id": "d58f053d",
   "metadata": {},
   "outputs": [],
   "source": [
    "command = os.path.join('AnalysisScripts','PerformanceAcrossSubsets.py') + ' ' + os.path.join('AnalyzedDataTest','overallResPresent8_6.csv') + ' ' + os.path.join('Data','origamiDatabase.xlsx') + ' ' + os.path.join('AnalyzedDataTest','FunctionList8_6.csv')\n",
    "!python $command"
   ]
  },
  {
   "cell_type": "markdown",
   "id": "7daeacb5",
   "metadata": {},
   "source": [
    "# 10. Determine Enrichment of Proteins with Different Molecular Functions"
   ]
  },
  {
   "cell_type": "code",
   "execution_count": null,
   "id": "a2452690",
   "metadata": {},
   "outputs": [],
   "source": [
    "command = os.path.join('AnalysisScripts','FunctionalEnrichment.py') + ' ' + os.path.join('AnalyzedDataTest','overallResPresent8_6.csv') + ' ' + os.path.join('AnalyzedDataTest','FunctionList8_6.csv')\n",
    "!python $command"
   ]
  },
  {
   "cell_type": "markdown",
   "id": "b815de8c",
   "metadata": {},
   "source": [
    "# 11. Find Proteins Commonly Present in the Corona of Different Nanostructures"
   ]
  },
  {
   "cell_type": "code",
   "execution_count": null,
   "id": "dc11db55",
   "metadata": {},
   "outputs": [],
   "source": [
    "command = os.path.join('AnalysisScripts','CommonProteins.py') + ' ' + os.path.join('AnalyzedDataTest','overallResPresent8_6.csv')\n",
    "!python $command"
   ]
  },
  {
   "cell_type": "markdown",
   "id": "05e9c518",
   "metadata": {},
   "source": [
    "# 12. Find Protein Properties Different Between Adsorbed and Absent Proteins"
   ]
  },
  {
   "cell_type": "code",
   "execution_count": null,
   "id": "9ae546f0",
   "metadata": {},
   "outputs": [],
   "source": [
    "command = os.path.join('AnalysisScripts','DifferentProteinsProperties.py') + ' ' + os.path.join('AnalyzedDataTest','ProStatistics8_5.csv') + ' ' + os.path.join('AnalyzedDataTest','PosProteins.csv') + ' ' + os.path.join('AnalyzedDataTest','NegProteins.csv')\n",
    "!python $command"
   ]
  },
  {
   "cell_type": "markdown",
   "id": "58225604",
   "metadata": {},
   "source": [
    "# 13. Evaluate the Enrichment of Endocytosis-Assosciated Proteins "
   ]
  },
  {
   "cell_type": "code",
   "execution_count": null,
   "id": "d67b1aca",
   "metadata": {},
   "outputs": [],
   "source": [
    "command = os.path.join('AnalysisScripts','EndocyticProteinEnrichment.py') + ' ' + os.path.join('Data','string_mapping.tsv') + ' ' + os.path.join('AnalyzedDataTest','overallResPresent8_6.csv')\n",
    "!python $command"
   ]
  },
  {
   "cell_type": "markdown",
   "id": "45913c9a",
   "metadata": {},
   "source": [
    "# 14. Evaluate Difference in Corona Composition Between Modified and Unmodified Nanostructures"
   ]
  },
  {
   "cell_type": "code",
   "execution_count": null,
   "id": "74ce30b7",
   "metadata": {},
   "outputs": [],
   "source": [
    "command = os.path.join('AnalysisScripts','Modified_vs_Unmodified.py') + ' ' + os.path.join('AnalyzedDataTest','overallResPresent8_6.csv')\n",
    "!python $command"
   ]
  }
 ],
 "metadata": {
  "kernelspec": {
   "display_name": "Python 3 (ipykernel)",
   "language": "python",
   "name": "python3"
  },
  "language_info": {
   "codemirror_mode": {
    "name": "ipython",
    "version": 3
   },
   "file_extension": ".py",
   "mimetype": "text/x-python",
   "name": "python",
   "nbconvert_exporter": "python",
   "pygments_lexer": "ipython3",
   "version": "3.10.11"
  }
 },
 "nbformat": 4,
 "nbformat_minor": 5
}

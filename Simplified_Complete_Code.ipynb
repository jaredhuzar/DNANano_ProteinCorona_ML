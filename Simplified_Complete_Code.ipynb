{
 "cells": [
  {
   "cell_type": "markdown",
   "id": "a6376fe0",
   "metadata": {},
   "source": [
    "# 1. Get LCMS Data and Protein Names"
   ]
  },
  {
   "cell_type": "code",
   "execution_count": null,
   "id": "22694071",
   "metadata": {},
   "outputs": [],
   "source": [
    "import os\n",
    "\n",
    "%run os.path.join('DatabaseFormation','LCMS_BinaryExtraction.py') os.path.join('Data','MBsubtracted_LCMS_Data.xlsx')"
   ]
  },
  {
   "cell_type": "markdown",
   "id": "b11747cf",
   "metadata": {},
   "source": [
    "# 2. Get Netsurf Protein Properties"
   ]
  },
  {
   "cell_type": "code",
   "execution_count": null,
   "id": "592da8da",
   "metadata": {},
   "outputs": [],
   "source": [
    "%run os.path.join('DatabaseFormation','NetSurfAnalysis.py') os.path.join('Data','netSurf','')"
   ]
  },
  {
   "cell_type": "markdown",
   "id": "39480315",
   "metadata": {},
   "source": [
    "# 3. Identify UniProt IDs"
   ]
  },
  {
   "cell_type": "code",
   "execution_count": null,
   "id": "7a4f6b0b",
   "metadata": {},
   "outputs": [],
   "source": [
    "%run os.path.join('DatabaseFormation','UniProtID_Indentification.py') os.path.join('AnalyzedDataTest','PresentProteins8_6.csv')"
   ]
  },
  {
   "cell_type": "markdown",
   "id": "7bc7ae46",
   "metadata": {},
   "source": [
    "# 4. Extract Structural and Functional Data from UniProt and QuantiProt"
   ]
  },
  {
   "cell_type": "code",
   "execution_count": null,
   "id": "fb8e7f83",
   "metadata": {},
   "outputs": [],
   "source": [
    "%run os.path.join('DatabaseFormation','UniprotQuantiprot_Structural_Functional_Info.py') os.path.join('AnalyzedDataTest','TranslatedPresent8_6.csv')"
   ]
  },
  {
   "cell_type": "markdown",
   "id": "78044fc2",
   "metadata": {},
   "source": [
    "# 5. Merge  Protein Properties"
   ]
  },
  {
   "cell_type": "code",
   "execution_count": null,
   "id": "c7dd8907",
   "metadata": {},
   "outputs": [],
   "source": [
    "dir1 = 'AnalyzedTestData'\n",
    "files = ['ProStatistics8_5.csv','functionalInfo.csv','flexibility.csv','interactivityData.csv','moreNetSurf.csv',\n",
    "        'secondaryAminoAcid.csv','aminoAcid.csv','exposedAminoAcid.csv','combos.csv']\n",
    "command = \"\"\n",
    "for fileVal in files:\n",
    "    command += os.path.join(dir1, fileVal)\n",
    "    command +=\" \"\n",
    "\n",
    "\n",
    "\n",
    "%run os.path.join('DatabaseFormation','Merge_Protein_Data.py') $command"
   ]
  },
  {
   "cell_type": "markdown",
   "id": "0af53b63",
   "metadata": {},
   "source": [
    "# 6. Merge LCMS, Protein, and Nano Features"
   ]
  },
  {
   "cell_type": "code",
   "execution_count": null,
   "id": "cc4f4f5b",
   "metadata": {},
   "outputs": [],
   "source": [
    "%run os.path.join('DatabaseFormation','Merge_Nano_Protein_LCMS.py') os.path.join('Data','origamiDatabase.xlsx') os.path.join('AnalyzedDataTest','TranslatedPresent8_6.csv') os.path.join('Data','origamiDatabase.xlsx') os.path.join('AnalyzedDataTest','ProStatistics8_5.csv')"
   ]
  },
  {
   "cell_type": "markdown",
   "id": "101b5434",
   "metadata": {},
   "source": [
    "# Analysis"
   ]
  },
  {
   "cell_type": "markdown",
   "id": "f78da443",
   "metadata": {},
   "source": [
    "# 7. Train, Test, and Evaluate XGBoost Model on Present Protein Data"
   ]
  },
  {
   "cell_type": "code",
   "execution_count": null,
   "id": "68a481a9",
   "metadata": {},
   "outputs": [],
   "source": [
    "%run os.path.join('AnalysisScripts','RunModelAnalysisPresent.py') os.path.join('AnalyzedDataTest','overallResPresent8_6.csv')"
   ]
  },
  {
   "cell_type": "markdown",
   "id": "bddbc7f9",
   "metadata": {},
   "source": [
    "# 8. Train, Test, and Evaluate XGBoost Model on Enriched Protein Data"
   ]
  },
  {
   "cell_type": "code",
   "execution_count": null,
   "id": "283419a0",
   "metadata": {},
   "outputs": [],
   "source": [
    "%run os.path.join('AnalysisScripts','RunModelEnriched.py') os.path.join('AnalyzedDataTest','overallResEnriched8_6.csv')"
   ]
  },
  {
   "cell_type": "markdown",
   "id": "c50ff5b5",
   "metadata": {},
   "source": [
    "# 9. Evaluate Performance of Model Across Subsets of Data"
   ]
  },
  {
   "cell_type": "code",
   "execution_count": null,
   "id": "06d22da0",
   "metadata": {},
   "outputs": [],
   "source": [
    "%run os.path.join('AnalysisScripts','PerformanceAcrossSubsets.py') os.path.join('AnalyzedDataTest','overallResPresent8_6.csv') os.path.join('Data','origamiDatabase.xlsx') os.path.join('AnalyzedDataTest','FunctionList8_6.csv')"
   ]
  },
  {
   "cell_type": "markdown",
   "id": "a1e03200",
   "metadata": {},
   "source": [
    "# 10. Determine Enrichment of Proteins with Different Molecular Functions"
   ]
  },
  {
   "cell_type": "code",
   "execution_count": null,
   "id": "1b41ddc1",
   "metadata": {},
   "outputs": [],
   "source": [
    "%run os.path.join('AnalysisScripts','FunctionalEnrichment.py') os.path.join('AnalyzedDataTest','overallResPresent8_6.csv') os.path.join('AnalyzedDataTest','FunctionList8_6.csv')"
   ]
  },
  {
   "cell_type": "markdown",
   "id": "b0526a44",
   "metadata": {},
   "source": [
    "# 11. Find Proteins Commonly Present in the Corona of Different Nanostructures"
   ]
  },
  {
   "cell_type": "code",
   "execution_count": null,
   "id": "972643fa",
   "metadata": {},
   "outputs": [],
   "source": [
    "%run os.path.join('AnalysisScripts','CommonProteins.py') os.path.join('AnalyzedDataTest','overallResPresent8_6.csv')"
   ]
  },
  {
   "cell_type": "markdown",
   "id": "f0a35e0a",
   "metadata": {},
   "source": [
    "# 12. Find Protein Properties Different Between Adsorbed and Absent Proteins"
   ]
  },
  {
   "cell_type": "code",
   "execution_count": null,
   "id": "a52b09fa",
   "metadata": {},
   "outputs": [],
   "source": [
    "%run os.path.join('AnalysisScripts','DifferentProteinsProperties.py') os.path.join('AnalyzedDataTest','ProStatistics8_5.csv') os.path.join('AnalyzedDataTest','PosProteins.csv') os.path.join('AnalyzedDataTest','NegProteins.csv')"
   ]
  },
  {
   "cell_type": "markdown",
   "id": "5143f966",
   "metadata": {},
   "source": [
    "# 13. Evaluate the Enrichment of Endocytosis-Assosciated Proteins "
   ]
  },
  {
   "cell_type": "code",
   "execution_count": null,
   "id": "bd96d875",
   "metadata": {},
   "outputs": [],
   "source": [
    "%run os.path.join('AnalysisScripts','EndocyticProteinEnrichment.py') os.path.join('Data','string_mapping.tsv') os.path.join('AnalyzedDataTest','overallResPresent8_6.csv')"
   ]
  },
  {
   "cell_type": "markdown",
   "id": "3c6a9f34",
   "metadata": {},
   "source": [
    "# 14. Evaluate Difference in Corona Composition Between Modified and Unmodified Nanostructures"
   ]
  },
  {
   "cell_type": "code",
   "execution_count": null,
   "id": "6746c084",
   "metadata": {},
   "outputs": [],
   "source": [
    "%run os.path.join('AnalysisScripts','Modified_vs_Unmodified.py') os.path.join('AnalyzedDataTest','overallResPresent8_6.csv')"
   ]
  }
 ],
 "metadata": {
  "kernelspec": {
   "display_name": "Python 3 (ipykernel)",
   "language": "python",
   "name": "python3"
  },
  "language_info": {
   "codemirror_mode": {
    "name": "ipython",
    "version": 3
   },
   "file_extension": ".py",
   "mimetype": "text/x-python",
   "name": "python",
   "nbconvert_exporter": "python",
   "pygments_lexer": "ipython3",
   "version": "3.10.11"
  }
 },
 "nbformat": 4,
 "nbformat_minor": 5
}

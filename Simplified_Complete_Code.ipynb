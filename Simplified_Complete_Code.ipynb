{
 "cells": [
  {
   "cell_type": "markdown",
   "id": "4fdbed8b",
   "metadata": {},
   "source": [
    "# 1. Get LCMS Data and Protein Names"
   ]
  },
  {
   "cell_type": "code",
   "execution_count": 15,
   "id": "167b9573",
   "metadata": {
    "scrolled": true
   },
   "outputs": [
    {
     "name": "stdout",
     "output_type": "stream",
     "text": [
      "set()\n",
      "set()\n",
      "set()\n",
      "set()\n",
      "set()\n",
      "set()\n",
      "set()\n",
      "set()\n",
      "set()\n",
      "set()\n",
      "set()\n",
      "set()\n",
      "set()\n",
      "set()\n",
      "set()\n",
      "set()\n",
      "set()\n",
      "set()\n",
      "set()\n",
      "set()\n",
      "set()\n",
      "set()\n",
      "set()\n",
      "set()\n",
      "set()\n",
      "set()\n",
      "set()\n",
      "set()\n",
      "set()\n",
      "set()\n",
      "set()\n",
      "set()\n",
      "set()\n",
      "set()\n",
      "set()\n",
      "set()\n"
     ]
    }
   ],
   "source": [
    "import os\n",
    "command = os.path.join('DatabaseFormation','LCMS_BinaryExtraction.py') + ' ' + os.path.join('Data','MBsubtracted_LCMS_Data.xlsx')\n",
    "!python $command"
   ]
  },
  {
   "cell_type": "markdown",
   "id": "1a17feec",
   "metadata": {},
   "source": [
    "# 2. Get Netsurf Protein Properties"
   ]
  },
  {
   "cell_type": "code",
   "execution_count": 16,
   "id": "c2319a77",
   "metadata": {},
   "outputs": [],
   "source": [
    "command = os.path.join('DatabaseFormation','NetSurfAnalysis.py') + ' ' + os.path.join('Data','netSurf','')\n",
    "!python $command"
   ]
  },
  {
   "cell_type": "markdown",
   "id": "5c50d7a0",
   "metadata": {},
   "source": [
    "# 3. Identify UniProt IDs"
   ]
  },
  {
   "cell_type": "code",
   "execution_count": 19,
   "id": "6d219588",
   "metadata": {
    "scrolled": true
   },
   "outputs": [
    {
     "name": "stderr",
     "output_type": "stream",
     "text": [
      "C:\\Users\\jared\\DNANano_ProteinCorona_ML\\DatabaseFormation\\UniProtID_Indentification.py:106: FutureWarning: The frame.append method is deprecated and will be removed from pandas in a future version. Use pandas.concat instead.\n",
      "  allPresNew=allPresNew.append(addArray)\n",
      "C:\\Users\\jared\\DNANano_ProteinCorona_ML\\DatabaseFormation\\UniProtID_Indentification.py:106: FutureWarning: The frame.append method is deprecated and will be removed from pandas in a future version. Use pandas.concat instead.\n",
      "  allPresNew=allPresNew.append(addArray)\n",
      "C:\\Users\\jared\\DNANano_ProteinCorona_ML\\DatabaseFormation\\UniProtID_Indentification.py:106: FutureWarning: The frame.append method is deprecated and will be removed from pandas in a future version. Use pandas.concat instead.\n",
      "  allPresNew=allPresNew.append(addArray)\n",
      "C:\\Users\\jared\\DNANano_ProteinCorona_ML\\DatabaseFormation\\UniProtID_Indentification.py:106: FutureWarning: The frame.append method is deprecated and will be removed from pandas in a future version. Use pandas.concat instead.\n",
      "  allPresNew=allPresNew.append(addArray)\n",
      "C:\\Users\\jared\\DNANano_ProteinCorona_ML\\DatabaseFormation\\UniProtID_Indentification.py:106: FutureWarning: The frame.append method is deprecated and will be removed from pandas in a future version. Use pandas.concat instead.\n",
      "  allPresNew=allPresNew.append(addArray)\n",
      "C:\\Users\\jared\\DNANano_ProteinCorona_ML\\DatabaseFormation\\UniProtID_Indentification.py:106: FutureWarning: The frame.append method is deprecated and will be removed from pandas in a future version. Use pandas.concat instead.\n",
      "  allPresNew=allPresNew.append(addArray)\n",
      "C:\\Users\\jared\\DNANano_ProteinCorona_ML\\DatabaseFormation\\UniProtID_Indentification.py:106: FutureWarning: The frame.append method is deprecated and will be removed from pandas in a future version. Use pandas.concat instead.\n",
      "  allPresNew=allPresNew.append(addArray)\n",
      "C:\\Users\\jared\\DNANano_ProteinCorona_ML\\DatabaseFormation\\UniProtID_Indentification.py:106: FutureWarning: The frame.append method is deprecated and will be removed from pandas in a future version. Use pandas.concat instead.\n",
      "  allPresNew=allPresNew.append(addArray)\n",
      "C:\\Users\\jared\\DNANano_ProteinCorona_ML\\DatabaseFormation\\UniProtID_Indentification.py:106: FutureWarning: The frame.append method is deprecated and will be removed from pandas in a future version. Use pandas.concat instead.\n",
      "  allPresNew=allPresNew.append(addArray)\n",
      "C:\\Users\\jared\\DNANano_ProteinCorona_ML\\DatabaseFormation\\UniProtID_Indentification.py:106: FutureWarning: The frame.append method is deprecated and will be removed from pandas in a future version. Use pandas.concat instead.\n",
      "  allPresNew=allPresNew.append(addArray)\n",
      "C:\\Users\\jared\\DNANano_ProteinCorona_ML\\DatabaseFormation\\UniProtID_Indentification.py:106: FutureWarning: The frame.append method is deprecated and will be removed from pandas in a future version. Use pandas.concat instead.\n",
      "  allPresNew=allPresNew.append(addArray)\n",
      "C:\\Users\\jared\\DNANano_ProteinCorona_ML\\DatabaseFormation\\UniProtID_Indentification.py:106: FutureWarning: The frame.append method is deprecated and will be removed from pandas in a future version. Use pandas.concat instead.\n",
      "  allPresNew=allPresNew.append(addArray)\n",
      "C:\\Users\\jared\\DNANano_ProteinCorona_ML\\DatabaseFormation\\UniProtID_Indentification.py:106: FutureWarning: The frame.append method is deprecated and will be removed from pandas in a future version. Use pandas.concat instead.\n",
      "  allPresNew=allPresNew.append(addArray)\n",
      "C:\\Users\\jared\\DNANano_ProteinCorona_ML\\DatabaseFormation\\UniProtID_Indentification.py:106: FutureWarning: The frame.append method is deprecated and will be removed from pandas in a future version. Use pandas.concat instead.\n",
      "  allPresNew=allPresNew.append(addArray)\n",
      "C:\\Users\\jared\\DNANano_ProteinCorona_ML\\DatabaseFormation\\UniProtID_Indentification.py:106: FutureWarning: The frame.append method is deprecated and will be removed from pandas in a future version. Use pandas.concat instead.\n",
      "  allPresNew=allPresNew.append(addArray)\n",
      "C:\\Users\\jared\\DNANano_ProteinCorona_ML\\DatabaseFormation\\UniProtID_Indentification.py:106: FutureWarning: The frame.append method is deprecated and will be removed from pandas in a future version. Use pandas.concat instead.\n",
      "  allPresNew=allPresNew.append(addArray)\n",
      "C:\\Users\\jared\\DNANano_ProteinCorona_ML\\DatabaseFormation\\UniProtID_Indentification.py:106: FutureWarning: The frame.append method is deprecated and will be removed from pandas in a future version. Use pandas.concat instead.\n",
      "  allPresNew=allPresNew.append(addArray)\n"
     ]
    }
   ],
   "source": [
    "command = os.path.join('DatabaseFormation','UniProtID_Indentification.py') + ' ' + os.path.join('AnalyzedDataTest','PresentProteins8_4.csv')\n",
    "!python $command"
   ]
  },
  {
   "cell_type": "markdown",
   "id": "d4ae0b4e",
   "metadata": {},
   "source": [
    "# 4. Extract Structural and Functional Data from UniProt and QuantiProt"
   ]
  },
  {
   "cell_type": "code",
   "execution_count": null,
   "id": "28873718",
   "metadata": {},
   "outputs": [],
   "source": [
    "command = os.path.join('DatabaseFormation','UniprotQuantiprot_Structural_Functional_Info.py') + ' ' + os.path.join('AnalyzedDataTest','TranslatedPresent8_6.csv')\n",
    "!python $command"
   ]
  },
  {
   "cell_type": "markdown",
   "id": "e1fe8ef6",
   "metadata": {},
   "source": [
    "# 5. Merge  Protein Properties"
   ]
  },
  {
   "cell_type": "code",
   "execution_count": null,
   "id": "6aa37b9a",
   "metadata": {},
   "outputs": [],
   "source": [
    "dir1 = 'AnalyzedTestData'\n",
    "files = ['ProStatistics8_5.csv','functionalInfo.csv','flexibility.csv','interactivityData.csv','moreNetSurf.csv',\n",
    "        'secondaryAminoAcid.csv','aminoAcid.csv','exposedAminoAcid.csv','combos.csv']\n",
    "command = \"\"\n",
    "for fileVal in files:\n",
    "    command += os.path.join(dir1, fileVal)\n",
    "    command +=\" \"\n",
    "\n",
    "command1 = os.path.join('DatabaseFormation','Merge_Protein_Data.py') + ' ' + command\n",
    "\n",
    "!python $command1"
   ]
  },
  {
   "cell_type": "markdown",
   "id": "5c1b2c05",
   "metadata": {},
   "source": [
    "# 6. Merge LCMS, Protein, and Nano Features"
   ]
  },
  {
   "cell_type": "code",
   "execution_count": null,
   "id": "79776ba5",
   "metadata": {},
   "outputs": [],
   "source": [
    "command = os.path.join('DatabaseFormation','Merge_Nano_Protein_LCMS.py') + ' ' + os.path.join('Data','origamiDatabase.xlsx') + ' ' +  os.path.join('AnalyzedDataTest','TranslatedPresent8_6.csv') + ' ' +  os.path.join('Data','origamiDatabase.xlsx') + ' ' +  os.path.join('AnalyzedDataTest','ProStatistics8_5.csv')\n",
    "!python $command"
   ]
  },
  {
   "cell_type": "markdown",
   "id": "cf81291a",
   "metadata": {},
   "source": [
    "# Analysis"
   ]
  },
  {
   "cell_type": "markdown",
   "id": "f11b64f1",
   "metadata": {},
   "source": [
    "# 7. Train, Test, and Evaluate XGBoost Model on Present Protein Data"
   ]
  },
  {
   "cell_type": "code",
   "execution_count": null,
   "id": "605e913f",
   "metadata": {},
   "outputs": [],
   "source": [
    "command = os.path.join('AnalysisScripts','RunModelAnalysisPresent.py') + ' ' +  os.path.join('AnalyzedDataTest','overallResPresent8_6.csv')\n",
    "!python $command"
   ]
  },
  {
   "cell_type": "markdown",
   "id": "d4f3e541",
   "metadata": {},
   "source": [
    "# 8. Train, Test, and Evaluate XGBoost Model on Enriched Protein Data"
   ]
  },
  {
   "cell_type": "code",
   "execution_count": null,
   "id": "44e0853f",
   "metadata": {},
   "outputs": [],
   "source": [
    "command = os.path.join('AnalysisScripts','RunModelEnriched.py') + ' ' + os.path.join('AnalyzedDataTest','overallResEnriched8_6.csv')\n",
    "!python $command"
   ]
  },
  {
   "cell_type": "markdown",
   "id": "bfe08d9e",
   "metadata": {},
   "source": [
    "# 9. Evaluate Performance of Model Across Subsets of Data"
   ]
  },
  {
   "cell_type": "code",
   "execution_count": null,
   "id": "0cc63f76",
   "metadata": {},
   "outputs": [],
   "source": [
    "command = os.path.join('AnalysisScripts','PerformanceAcrossSubsets.py') + ' ' + os.path.join('AnalyzedDataTest','overallResPresent8_6.csv') + ' ' + os.path.join('Data','origamiDatabase.xlsx') + ' ' + os.path.join('AnalyzedDataTest','FunctionList8_6.csv')\n",
    "!python $command"
   ]
  },
  {
   "cell_type": "markdown",
   "id": "b3eb4556",
   "metadata": {},
   "source": [
    "# 10. Determine Enrichment of Proteins with Different Molecular Functions"
   ]
  },
  {
   "cell_type": "code",
   "execution_count": null,
   "id": "4a2b2563",
   "metadata": {},
   "outputs": [],
   "source": [
    "command = os.path.join('AnalysisScripts','FunctionalEnrichment.py') + ' ' + os.path.join('AnalyzedDataTest','overallResPresent8_6.csv') + ' ' + os.path.join('AnalyzedDataTest','FunctionList8_6.csv')\n",
    "!python $command"
   ]
  },
  {
   "cell_type": "markdown",
   "id": "65531f7b",
   "metadata": {},
   "source": [
    "# 11. Find Proteins Commonly Present in the Corona of Different Nanostructures"
   ]
  },
  {
   "cell_type": "code",
   "execution_count": null,
   "id": "1fb55e28",
   "metadata": {},
   "outputs": [],
   "source": [
    "command = os.path.join('AnalysisScripts','CommonProteins.py') + ' ' + os.path.join('AnalyzedDataTest','overallResPresent8_6.csv')\n",
    "!python $command"
   ]
  },
  {
   "cell_type": "markdown",
   "id": "c32ae211",
   "metadata": {},
   "source": [
    "# 12. Find Protein Properties Different Between Adsorbed and Absent Proteins"
   ]
  },
  {
   "cell_type": "code",
   "execution_count": null,
   "id": "f0f56852",
   "metadata": {},
   "outputs": [],
   "source": [
    "command = os.path.join('AnalysisScripts','DifferentProteinsProperties.py') + ' ' + os.path.join('AnalyzedDataTest','ProStatistics8_5.csv') + ' ' + os.path.join('AnalyzedDataTest','PosProteins.csv') + ' ' + os.path.join('AnalyzedDataTest','NegProteins.csv')\n",
    "!python $command"
   ]
  },
  {
   "cell_type": "markdown",
   "id": "d40a6621",
   "metadata": {},
   "source": [
    "# 13. Evaluate the Enrichment of Endocytosis-Assosciated Proteins "
   ]
  },
  {
   "cell_type": "code",
   "execution_count": null,
   "id": "d3d8570b",
   "metadata": {},
   "outputs": [],
   "source": [
    "command = os.path.join('AnalysisScripts','EndocyticProteinEnrichment.py') + ' ' + os.path.join('Data','string_mapping.tsv') + ' ' + os.path.join('AnalyzedDataTest','overallResPresent8_6.csv')\n",
    "!python $command"
   ]
  },
  {
   "cell_type": "markdown",
   "id": "dfd98438",
   "metadata": {},
   "source": [
    "# 14. Evaluate Difference in Corona Composition Between Modified and Unmodified Nanostructures"
   ]
  },
  {
   "cell_type": "code",
   "execution_count": null,
   "id": "384594b9",
   "metadata": {},
   "outputs": [],
   "source": [
    "command = os.path.join('AnalysisScripts','Modified_vs_Unmodified.py') + ' ' + os.path.join('AnalyzedDataTest','overallResPresent8_6.csv')\n",
    "!python $command"
   ]
  }
 ],
 "metadata": {
  "kernelspec": {
   "display_name": "Python 3 (ipykernel)",
   "language": "python",
   "name": "python3"
  },
  "language_info": {
   "codemirror_mode": {
    "name": "ipython",
    "version": 3
   },
   "file_extension": ".py",
   "mimetype": "text/x-python",
   "name": "python",
   "nbconvert_exporter": "python",
   "pygments_lexer": "ipython3",
   "version": "3.10.11"
  }
 },
 "nbformat": 4,
 "nbformat_minor": 5
}

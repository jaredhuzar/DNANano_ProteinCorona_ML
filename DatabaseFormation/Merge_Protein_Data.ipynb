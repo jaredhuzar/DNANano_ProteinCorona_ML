{
 "cells": [
  {
   "cell_type": "code",
   "execution_count": null,
   "id": "df6b04c5",
   "metadata": {},
   "outputs": [],
   "source": [
    "import pandas as pd\n",
    "import sys\n",
    "\n",
    "outputDir = 'AnalyzedTestData\\\\'\n",
    "\n",
    "proDataPath=sys.argv[1]\n",
    "proteinDatabase=pd.read_csv(proDataPath,index_col=0)\n",
    "\n",
    "functions1Path=sys.argv[2]\n",
    "functions1=pd.read_csv(functions1Path,index_col=0)\n",
    "\n",
    "goFlexPath=sys.argv[3]\n",
    "goFlex=pd.read_csv(goFlexPath,index_col=0)\n",
    "\n",
    "InteractionsPath=sys.argv[4]\n",
    "Interactions=pd.read_csv(InteractionsPath,index_col=0)\n",
    "\n",
    "moreNetSurfPath=sys.argv[5]\n",
    "moreNetSurf=pd.read_csv(moreNetSurfPath,index_col=0)\n",
    "\n",
    "totPath=sys.argv[6]\n",
    "tot=pd.read_csv(totPath,index_col=0)\n",
    "\n",
    "totaaPath=sys.argv[8]\n",
    "totaa=pd.read_csv(totaaPath,index_col=0)\n",
    "\n",
    "totListaaExpoPath=sys.argv[9]\n",
    "totListaaExpo=pd.read_csv(totListaaExpoPath,index_col=0)\n",
    "\n",
    "combosPath=sys.argv[10]\n",
    "combos=pd.read_csv(combosPath,index_col=0)\n",
    "\n",
    "\n",
    "\n",
    "proteinDatabase=proteinDatabase.loc[proteinDatabase.index.isin(set(combos.index).intersection(set(proteinDatabase.index)))]\n",
    "functions1=functions1.loc[functions1.index.isin(set(combos.index).intersection(set(functions1.index)))]\n",
    "goFlex=goFlex.loc[goFlex.index.isin(set(combos.index).intersection(set(goFlex.index)))]\n",
    "Interactions=Interactions.loc[Interactions.index.isin(set(combos.index).intersection(set(Interactions.index)))]\n",
    "moreNetSurf=moreNetSurf.loc[moreNetSurf.index.isin(set(combos.index).intersection(set(moreNetSurf.index)))]\n",
    "tot=tot.loc[tot.index.isin(set(proteinDatabase.index).intersection(set(tot.index)))]\n",
    "totaa=totaa.loc[totaa.index.isin(set(proteinDatabase.index).intersection(set(proteinDatabase.index)))]\n",
    "totListaaExpo=totListaaExpo.loc[totListaaExpo.index.isin(set(proteinDatabase.index).intersection(set(proteinDatabase.index)))]\n",
    "combos=combos.loc[combos.index.isin(set(proteinDatabase.index).intersection(set(combos.index)))]\n",
    "moreNetSurf=moreNetSurf.loc[moreNetSurf.index.isin(set(proteinDatabase.index).intersection(set(moreNetSurf.index)))]\n",
    "\n",
    "mergedPros=pd.concat([proteinDatabase, goFlex], axis=1)\n",
    "mergedPros=pd.concat([mergedPros, functions1], axis=1)\n",
    "mergedPros=pd.concat([mergedPros,totaa], axis = 1)\n",
    "mergedPros=pd.concat([mergedPros, totListaaExpo], axis =1)\n",
    "mergedPros=pd.concat([mergedPros,combos], axis =1)\n",
    "mergedPros=pd.concat([mergedPros,moreNetSurf], axis =1)\n",
    "mergedPros=pd.concat([mergedPros,tot], axis =1)\n",
    "mergedPros=pd.concat([mergedPros,Interactions], axis =1)\n",
    "\n",
    "mergedPros.to_csv(outputDir + 'ProStatistics8_5.csv')"
   ]
  }
 ],
 "metadata": {
  "kernelspec": {
   "display_name": "Python 3 (ipykernel)",
   "language": "python",
   "name": "python3"
  },
  "language_info": {
   "codemirror_mode": {
    "name": "ipython",
    "version": 3
   },
   "file_extension": ".py",
   "mimetype": "text/x-python",
   "name": "python",
   "nbconvert_exporter": "python",
   "pygments_lexer": "ipython3",
   "version": "3.10.11"
  }
 },
 "nbformat": 4,
 "nbformat_minor": 5
}

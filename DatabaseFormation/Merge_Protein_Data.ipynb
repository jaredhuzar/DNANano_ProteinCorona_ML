{
 "cells": [
  {
   "cell_type": "code",
   "execution_count": null,
   "id": "df6b04c5",
   "metadata": {},
   "outputs": [],
   "source": [
    "import pandas as pd\n",
    "\n",
    "inputDir = 'AnalyzedTestData\\\\'\n",
    "outputDir = 'AnalyzedTestData\\\\'\n",
    "\n",
    "proteinDatabase=proteinDatabase.loc[proteinDatabase.index.isin(set(combos.index).intersection(set(proteinDatabase.index)))]\n",
    "functions1=functions1.loc[functions1.index.isin(set(combos.index).intersection(set(functions1.index)))]\n",
    "goFlex=goFlex.loc[goFlex.index.isin(set(combos.index).intersection(set(goFlex.index)))]\n",
    "Interactions=Interactions.loc[Interactions.index.isin(set(combos.index).intersection(set(Interactions.index)))]\n",
    "moreNetSurf=moreNetSurf.loc[moreNetSurf.index.isin(set(combos.index).intersection(set(moreNetSurf.index)))]\n",
    "tot=tot.loc[tot.index.isin(set(proteinDatabase.index).intersection(set(tot.index)))]\n",
    "totaa=totaa.loc[totaa.index.isin(set(proteinDatabase.index).intersection(set(proteinDatabase.index)))]\n",
    "totListaaExpo=totListaaExpo.loc[totListaaExpo.index.isin(set(proteinDatabase.index).intersection(set(proteinDatabase.index)))]\n",
    "combos=combos.loc[combos.index.isin(set(proteinDatabase.index).intersection(set(combos.index)))]\n",
    "moreNetSurf=moreNetSurf.loc[moreNetSurf.index.isin(set(proteinDatabase.index).intersection(set(moreNetSurf.index)))]\n",
    "\n",
    "mergedPros=pd.concat([proteinDatabase, goFlex], axis=1)\n",
    "mergedPros=pd.concat([mergedPros, functions1], axis=1)\n",
    "mergedPros=pd.concat([mergedPros,totaa], axis = 1)\n",
    "mergedPros=pd.concat([mergedPros, totListaaExpo], axis =1)\n",
    "mergedPros=pd.concat([mergedPros,combos], axis =1)\n",
    "mergedPros=pd.concat([mergedPros,moreNetSurf], axis =1)\n",
    "mergedPros=pd.concat([mergedPros,tot], axis =1)\n",
    "mergedPros=pd.concat([mergedPros,Interactions], axis =1)\n",
    "\n",
    "mergedPros.to_csv(outputDir + 'ProStatistics8_5.csv')"
   ]
  }
 ],
 "metadata": {
  "kernelspec": {
   "display_name": "Python 3 (ipykernel)",
   "language": "python",
   "name": "python3"
  },
  "language_info": {
   "codemirror_mode": {
    "name": "ipython",
    "version": 3
   },
   "file_extension": ".py",
   "mimetype": "text/x-python",
   "name": "python",
   "nbconvert_exporter": "python",
   "pygments_lexer": "ipython3",
   "version": "3.10.11"
  }
 },
 "nbformat": 4,
 "nbformat_minor": 5
}
